{
  "nbformat": 4,
  "nbformat_minor": 0,
  "metadata": {
    "colab": {
      "name": "Reinforcement Learning for Ethereum.ipynb",
      "provenance": [],
      "authorship_tag": "ABX9TyM0RlT6ml3uBHx4em/6qU+W",
      "include_colab_link": true
    },
    "kernelspec": {
      "name": "python3",
      "display_name": "Python 3"
    },
    "language_info": {
      "name": "python"
    }
  },
  "cells": [
    {
      "cell_type": "markdown",
      "metadata": {
        "id": "view-in-github",
        "colab_type": "text"
      },
      "source": [
        "<a href=\"https://colab.research.google.com/github/jamshid1255/ADALINE-on-iris-dataset-code-in-Python-/blob/master/Reinforcement_Learning_for_Ethereum.ipynb\" target=\"_parent\"><img src=\"https://colab.research.google.com/assets/colab-badge.svg\" alt=\"Open In Colab\"/></a>"
      ]
    },
    {
      "cell_type": "code",
      "source": [
        "# Mount Drive with Colab\n",
        "from google.colab import drive\n",
        "drive.mount('/content/drive')"
      ],
      "metadata": {
        "id": "83YiGD-pL9bn"
      },
      "execution_count": null,
      "outputs": []
    },
    {
      "cell_type": "code",
      "source": [
        "# Import basic Libraries\n",
        "import numpy as np\n",
        "import pandas as pd\n",
        "from sklearn.svm import SVR\n",
        "import matplotlib.pyplot as plt"
      ],
      "metadata": {
        "id": "ClpL4PoEHVxV"
      },
      "execution_count": null,
      "outputs": []
    },
    {
      "cell_type": "code",
      "source": [
        "# Read the dataset\n",
        "col_list = [\"Date\",\"Open\",\"High\",\"Low\",\"Close\",\"Adj Close\",\"Volume\"]\n",
        "data = pd.read_csv('/content/drive/MyDrive/CCTA Presentation and Project/ETH-USD.csv', usecols=col_list)\n",
        "data.head()"
      ],
      "metadata": {
        "colab": {
          "base_uri": "https://localhost:8080/",
          "height": 206
        },
        "id": "pVrehmZpKyGu",
        "outputId": "c8373121-123c-4829-ecd9-b6e258f10211"
      },
      "execution_count": null,
      "outputs": [
        {
          "output_type": "execute_result",
          "data": {
            "text/plain": [
              "         Date        Open        High         Low       Close   Adj Close  \\\n",
              "0  2017-11-09  308.644989  329.451996  307.056000  320.884003  320.884003   \n",
              "1  2017-11-10  320.670990  324.717987  294.541992  299.252991  299.252991   \n",
              "2  2017-11-11  298.585999  319.453003  298.191986  314.681000  314.681000   \n",
              "3  2017-11-12  314.690002  319.153015  298.513000  307.907990  307.907990   \n",
              "4  2017-11-13  307.024994  328.415009  307.024994  316.716003  316.716003   \n",
              "\n",
              "       Volume  \n",
              "0   893249984  \n",
              "1   885985984  \n",
              "2   842300992  \n",
              "3  1613479936  \n",
              "4  1041889984  "
            ],
            "text/html": [
              "\n",
              "  <div id=\"df-c2435462-d50e-460a-b1e7-56386d4c91c2\">\n",
              "    <div class=\"colab-df-container\">\n",
              "      <div>\n",
              "<style scoped>\n",
              "    .dataframe tbody tr th:only-of-type {\n",
              "        vertical-align: middle;\n",
              "    }\n",
              "\n",
              "    .dataframe tbody tr th {\n",
              "        vertical-align: top;\n",
              "    }\n",
              "\n",
              "    .dataframe thead th {\n",
              "        text-align: right;\n",
              "    }\n",
              "</style>\n",
              "<table border=\"1\" class=\"dataframe\">\n",
              "  <thead>\n",
              "    <tr style=\"text-align: right;\">\n",
              "      <th></th>\n",
              "      <th>Date</th>\n",
              "      <th>Open</th>\n",
              "      <th>High</th>\n",
              "      <th>Low</th>\n",
              "      <th>Close</th>\n",
              "      <th>Adj Close</th>\n",
              "      <th>Volume</th>\n",
              "    </tr>\n",
              "  </thead>\n",
              "  <tbody>\n",
              "    <tr>\n",
              "      <th>0</th>\n",
              "      <td>2017-11-09</td>\n",
              "      <td>308.644989</td>\n",
              "      <td>329.451996</td>\n",
              "      <td>307.056000</td>\n",
              "      <td>320.884003</td>\n",
              "      <td>320.884003</td>\n",
              "      <td>893249984</td>\n",
              "    </tr>\n",
              "    <tr>\n",
              "      <th>1</th>\n",
              "      <td>2017-11-10</td>\n",
              "      <td>320.670990</td>\n",
              "      <td>324.717987</td>\n",
              "      <td>294.541992</td>\n",
              "      <td>299.252991</td>\n",
              "      <td>299.252991</td>\n",
              "      <td>885985984</td>\n",
              "    </tr>\n",
              "    <tr>\n",
              "      <th>2</th>\n",
              "      <td>2017-11-11</td>\n",
              "      <td>298.585999</td>\n",
              "      <td>319.453003</td>\n",
              "      <td>298.191986</td>\n",
              "      <td>314.681000</td>\n",
              "      <td>314.681000</td>\n",
              "      <td>842300992</td>\n",
              "    </tr>\n",
              "    <tr>\n",
              "      <th>3</th>\n",
              "      <td>2017-11-12</td>\n",
              "      <td>314.690002</td>\n",
              "      <td>319.153015</td>\n",
              "      <td>298.513000</td>\n",
              "      <td>307.907990</td>\n",
              "      <td>307.907990</td>\n",
              "      <td>1613479936</td>\n",
              "    </tr>\n",
              "    <tr>\n",
              "      <th>4</th>\n",
              "      <td>2017-11-13</td>\n",
              "      <td>307.024994</td>\n",
              "      <td>328.415009</td>\n",
              "      <td>307.024994</td>\n",
              "      <td>316.716003</td>\n",
              "      <td>316.716003</td>\n",
              "      <td>1041889984</td>\n",
              "    </tr>\n",
              "  </tbody>\n",
              "</table>\n",
              "</div>\n",
              "      <button class=\"colab-df-convert\" onclick=\"convertToInteractive('df-c2435462-d50e-460a-b1e7-56386d4c91c2')\"\n",
              "              title=\"Convert this dataframe to an interactive table.\"\n",
              "              style=\"display:none;\">\n",
              "        \n",
              "  <svg xmlns=\"http://www.w3.org/2000/svg\" height=\"24px\"viewBox=\"0 0 24 24\"\n",
              "       width=\"24px\">\n",
              "    <path d=\"M0 0h24v24H0V0z\" fill=\"none\"/>\n",
              "    <path d=\"M18.56 5.44l.94 2.06.94-2.06 2.06-.94-2.06-.94-.94-2.06-.94 2.06-2.06.94zm-11 1L8.5 8.5l.94-2.06 2.06-.94-2.06-.94L8.5 2.5l-.94 2.06-2.06.94zm10 10l.94 2.06.94-2.06 2.06-.94-2.06-.94-.94-2.06-.94 2.06-2.06.94z\"/><path d=\"M17.41 7.96l-1.37-1.37c-.4-.4-.92-.59-1.43-.59-.52 0-1.04.2-1.43.59L10.3 9.45l-7.72 7.72c-.78.78-.78 2.05 0 2.83L4 21.41c.39.39.9.59 1.41.59.51 0 1.02-.2 1.41-.59l7.78-7.78 2.81-2.81c.8-.78.8-2.07 0-2.86zM5.41 20L4 18.59l7.72-7.72 1.47 1.35L5.41 20z\"/>\n",
              "  </svg>\n",
              "      </button>\n",
              "      \n",
              "  <style>\n",
              "    .colab-df-container {\n",
              "      display:flex;\n",
              "      flex-wrap:wrap;\n",
              "      gap: 12px;\n",
              "    }\n",
              "\n",
              "    .colab-df-convert {\n",
              "      background-color: #E8F0FE;\n",
              "      border: none;\n",
              "      border-radius: 50%;\n",
              "      cursor: pointer;\n",
              "      display: none;\n",
              "      fill: #1967D2;\n",
              "      height: 32px;\n",
              "      padding: 0 0 0 0;\n",
              "      width: 32px;\n",
              "    }\n",
              "\n",
              "    .colab-df-convert:hover {\n",
              "      background-color: #E2EBFA;\n",
              "      box-shadow: 0px 1px 2px rgba(60, 64, 67, 0.3), 0px 1px 3px 1px rgba(60, 64, 67, 0.15);\n",
              "      fill: #174EA6;\n",
              "    }\n",
              "\n",
              "    [theme=dark] .colab-df-convert {\n",
              "      background-color: #3B4455;\n",
              "      fill: #D2E3FC;\n",
              "    }\n",
              "\n",
              "    [theme=dark] .colab-df-convert:hover {\n",
              "      background-color: #434B5C;\n",
              "      box-shadow: 0px 1px 3px 1px rgba(0, 0, 0, 0.15);\n",
              "      filter: drop-shadow(0px 1px 2px rgba(0, 0, 0, 0.3));\n",
              "      fill: #FFFFFF;\n",
              "    }\n",
              "  </style>\n",
              "\n",
              "      <script>\n",
              "        const buttonEl =\n",
              "          document.querySelector('#df-c2435462-d50e-460a-b1e7-56386d4c91c2 button.colab-df-convert');\n",
              "        buttonEl.style.display =\n",
              "          google.colab.kernel.accessAllowed ? 'block' : 'none';\n",
              "\n",
              "        async function convertToInteractive(key) {\n",
              "          const element = document.querySelector('#df-c2435462-d50e-460a-b1e7-56386d4c91c2');\n",
              "          const dataTable =\n",
              "            await google.colab.kernel.invokeFunction('convertToInteractive',\n",
              "                                                     [key], {});\n",
              "          if (!dataTable) return;\n",
              "\n",
              "          const docLinkHtml = 'Like what you see? Visit the ' +\n",
              "            '<a target=\"_blank\" href=https://colab.research.google.com/notebooks/data_table.ipynb>data table notebook</a>'\n",
              "            + ' to learn more about interactive tables.';\n",
              "          element.innerHTML = '';\n",
              "          dataTable['output_type'] = 'display_data';\n",
              "          await google.colab.output.renderOutput(dataTable, element);\n",
              "          const docLink = document.createElement('div');\n",
              "          docLink.innerHTML = docLinkHtml;\n",
              "          element.appendChild(docLink);\n",
              "        }\n",
              "      </script>\n",
              "    </div>\n",
              "  </div>\n",
              "  "
            ]
          },
          "metadata": {},
          "execution_count": 4
        }
      ]
    },
    {
      "cell_type": "code",
      "source": [
        "# Convert the date to the Index\n",
        "data = data.set_index(pd.DatetimeIndex(data['Date'].values))"
      ],
      "metadata": {
        "id": "qQaF7saTLgeL"
      },
      "execution_count": null,
      "outputs": []
    },
    {
      "cell_type": "code",
      "source": [
        "data.head()"
      ],
      "metadata": {
        "colab": {
          "base_uri": "https://localhost:8080/",
          "height": 206
        },
        "id": "xrjHhCkSL0M7",
        "outputId": "fd7c2766-a397-4513-bce7-462fc1e65c01"
      },
      "execution_count": null,
      "outputs": [
        {
          "output_type": "execute_result",
          "data": {
            "text/plain": [
              "                  Date        Open        High         Low       Close  \\\n",
              "2017-11-09  2017-11-09  308.644989  329.451996  307.056000  320.884003   \n",
              "2017-11-10  2017-11-10  320.670990  324.717987  294.541992  299.252991   \n",
              "2017-11-11  2017-11-11  298.585999  319.453003  298.191986  314.681000   \n",
              "2017-11-12  2017-11-12  314.690002  319.153015  298.513000  307.907990   \n",
              "2017-11-13  2017-11-13  307.024994  328.415009  307.024994  316.716003   \n",
              "\n",
              "             Adj Close      Volume  \n",
              "2017-11-09  320.884003   893249984  \n",
              "2017-11-10  299.252991   885985984  \n",
              "2017-11-11  314.681000   842300992  \n",
              "2017-11-12  307.907990  1613479936  \n",
              "2017-11-13  316.716003  1041889984  "
            ],
            "text/html": [
              "\n",
              "  <div id=\"df-a88eb000-fc35-45ca-9868-98336fec0c9d\">\n",
              "    <div class=\"colab-df-container\">\n",
              "      <div>\n",
              "<style scoped>\n",
              "    .dataframe tbody tr th:only-of-type {\n",
              "        vertical-align: middle;\n",
              "    }\n",
              "\n",
              "    .dataframe tbody tr th {\n",
              "        vertical-align: top;\n",
              "    }\n",
              "\n",
              "    .dataframe thead th {\n",
              "        text-align: right;\n",
              "    }\n",
              "</style>\n",
              "<table border=\"1\" class=\"dataframe\">\n",
              "  <thead>\n",
              "    <tr style=\"text-align: right;\">\n",
              "      <th></th>\n",
              "      <th>Date</th>\n",
              "      <th>Open</th>\n",
              "      <th>High</th>\n",
              "      <th>Low</th>\n",
              "      <th>Close</th>\n",
              "      <th>Adj Close</th>\n",
              "      <th>Volume</th>\n",
              "    </tr>\n",
              "  </thead>\n",
              "  <tbody>\n",
              "    <tr>\n",
              "      <th>2017-11-09</th>\n",
              "      <td>2017-11-09</td>\n",
              "      <td>308.644989</td>\n",
              "      <td>329.451996</td>\n",
              "      <td>307.056000</td>\n",
              "      <td>320.884003</td>\n",
              "      <td>320.884003</td>\n",
              "      <td>893249984</td>\n",
              "    </tr>\n",
              "    <tr>\n",
              "      <th>2017-11-10</th>\n",
              "      <td>2017-11-10</td>\n",
              "      <td>320.670990</td>\n",
              "      <td>324.717987</td>\n",
              "      <td>294.541992</td>\n",
              "      <td>299.252991</td>\n",
              "      <td>299.252991</td>\n",
              "      <td>885985984</td>\n",
              "    </tr>\n",
              "    <tr>\n",
              "      <th>2017-11-11</th>\n",
              "      <td>2017-11-11</td>\n",
              "      <td>298.585999</td>\n",
              "      <td>319.453003</td>\n",
              "      <td>298.191986</td>\n",
              "      <td>314.681000</td>\n",
              "      <td>314.681000</td>\n",
              "      <td>842300992</td>\n",
              "    </tr>\n",
              "    <tr>\n",
              "      <th>2017-11-12</th>\n",
              "      <td>2017-11-12</td>\n",
              "      <td>314.690002</td>\n",
              "      <td>319.153015</td>\n",
              "      <td>298.513000</td>\n",
              "      <td>307.907990</td>\n",
              "      <td>307.907990</td>\n",
              "      <td>1613479936</td>\n",
              "    </tr>\n",
              "    <tr>\n",
              "      <th>2017-11-13</th>\n",
              "      <td>2017-11-13</td>\n",
              "      <td>307.024994</td>\n",
              "      <td>328.415009</td>\n",
              "      <td>307.024994</td>\n",
              "      <td>316.716003</td>\n",
              "      <td>316.716003</td>\n",
              "      <td>1041889984</td>\n",
              "    </tr>\n",
              "  </tbody>\n",
              "</table>\n",
              "</div>\n",
              "      <button class=\"colab-df-convert\" onclick=\"convertToInteractive('df-a88eb000-fc35-45ca-9868-98336fec0c9d')\"\n",
              "              title=\"Convert this dataframe to an interactive table.\"\n",
              "              style=\"display:none;\">\n",
              "        \n",
              "  <svg xmlns=\"http://www.w3.org/2000/svg\" height=\"24px\"viewBox=\"0 0 24 24\"\n",
              "       width=\"24px\">\n",
              "    <path d=\"M0 0h24v24H0V0z\" fill=\"none\"/>\n",
              "    <path d=\"M18.56 5.44l.94 2.06.94-2.06 2.06-.94-2.06-.94-.94-2.06-.94 2.06-2.06.94zm-11 1L8.5 8.5l.94-2.06 2.06-.94-2.06-.94L8.5 2.5l-.94 2.06-2.06.94zm10 10l.94 2.06.94-2.06 2.06-.94-2.06-.94-.94-2.06-.94 2.06-2.06.94z\"/><path d=\"M17.41 7.96l-1.37-1.37c-.4-.4-.92-.59-1.43-.59-.52 0-1.04.2-1.43.59L10.3 9.45l-7.72 7.72c-.78.78-.78 2.05 0 2.83L4 21.41c.39.39.9.59 1.41.59.51 0 1.02-.2 1.41-.59l7.78-7.78 2.81-2.81c.8-.78.8-2.07 0-2.86zM5.41 20L4 18.59l7.72-7.72 1.47 1.35L5.41 20z\"/>\n",
              "  </svg>\n",
              "      </button>\n",
              "      \n",
              "  <style>\n",
              "    .colab-df-container {\n",
              "      display:flex;\n",
              "      flex-wrap:wrap;\n",
              "      gap: 12px;\n",
              "    }\n",
              "\n",
              "    .colab-df-convert {\n",
              "      background-color: #E8F0FE;\n",
              "      border: none;\n",
              "      border-radius: 50%;\n",
              "      cursor: pointer;\n",
              "      display: none;\n",
              "      fill: #1967D2;\n",
              "      height: 32px;\n",
              "      padding: 0 0 0 0;\n",
              "      width: 32px;\n",
              "    }\n",
              "\n",
              "    .colab-df-convert:hover {\n",
              "      background-color: #E2EBFA;\n",
              "      box-shadow: 0px 1px 2px rgba(60, 64, 67, 0.3), 0px 1px 3px 1px rgba(60, 64, 67, 0.15);\n",
              "      fill: #174EA6;\n",
              "    }\n",
              "\n",
              "    [theme=dark] .colab-df-convert {\n",
              "      background-color: #3B4455;\n",
              "      fill: #D2E3FC;\n",
              "    }\n",
              "\n",
              "    [theme=dark] .colab-df-convert:hover {\n",
              "      background-color: #434B5C;\n",
              "      box-shadow: 0px 1px 3px 1px rgba(0, 0, 0, 0.15);\n",
              "      filter: drop-shadow(0px 1px 2px rgba(0, 0, 0, 0.3));\n",
              "      fill: #FFFFFF;\n",
              "    }\n",
              "  </style>\n",
              "\n",
              "      <script>\n",
              "        const buttonEl =\n",
              "          document.querySelector('#df-a88eb000-fc35-45ca-9868-98336fec0c9d button.colab-df-convert');\n",
              "        buttonEl.style.display =\n",
              "          google.colab.kernel.accessAllowed ? 'block' : 'none';\n",
              "\n",
              "        async function convertToInteractive(key) {\n",
              "          const element = document.querySelector('#df-a88eb000-fc35-45ca-9868-98336fec0c9d');\n",
              "          const dataTable =\n",
              "            await google.colab.kernel.invokeFunction('convertToInteractive',\n",
              "                                                     [key], {});\n",
              "          if (!dataTable) return;\n",
              "\n",
              "          const docLinkHtml = 'Like what you see? Visit the ' +\n",
              "            '<a target=\"_blank\" href=https://colab.research.google.com/notebooks/data_table.ipynb>data table notebook</a>'\n",
              "            + ' to learn more about interactive tables.';\n",
              "          element.innerHTML = '';\n",
              "          dataTable['output_type'] = 'display_data';\n",
              "          await google.colab.output.renderOutput(dataTable, element);\n",
              "          const docLink = document.createElement('div');\n",
              "          docLink.innerHTML = docLinkHtml;\n",
              "          element.appendChild(docLink);\n",
              "        }\n",
              "      </script>\n",
              "    </div>\n",
              "  </div>\n",
              "  "
            ]
          },
          "metadata": {},
          "execution_count": 8
        }
      ]
    },
    {
      "cell_type": "markdown",
      "source": [
        "### Create variable for N data to predict the future"
      ],
      "metadata": {
        "id": "yycyqRikMWm3"
      }
    },
    {
      "cell_type": "code",
      "source": [
        "# Create variable for N data to predict the future\n",
        "future_days = 5"
      ],
      "metadata": {
        "id": "EqnoFgV2L3na"
      },
      "execution_count": null,
      "outputs": []
    },
    {
      "cell_type": "code",
      "source": [
        "# Create a new column this column will contain our target\n",
        "data[str(future_days)+'_Day_Price_Forecast'] = data[['Close']].shift(-future_days)\n",
        "\n",
        "data[['Close', str(future_days)+'_Day_Price_Forecast']]"
      ],
      "metadata": {
        "colab": {
          "base_uri": "https://localhost:8080/",
          "height": 424
        },
        "id": "6kQZwZpSMwqK",
        "outputId": "f4f3e04e-73fe-4e5e-ada9-c1f23d8353f8"
      },
      "execution_count": null,
      "outputs": [
        {
          "output_type": "execute_result",
          "data": {
            "text/plain": [
              "                  Close  5_Day_Price_Forecast\n",
              "2017-11-09   320.884003            337.631012\n",
              "2017-11-10   299.252991            333.356995\n",
              "2017-11-11   314.681000            330.924011\n",
              "2017-11-12   307.907990            332.394012\n",
              "2017-11-13   316.716003            347.612000\n",
              "...                 ...                   ...\n",
              "2022-04-24  2922.732666                   NaN\n",
              "2022-04-25  3009.393555                   NaN\n",
              "2022-04-26  2808.298340                   NaN\n",
              "2022-04-27  2888.929688                   NaN\n",
              "2022-04-28  2879.540283                   NaN\n",
              "\n",
              "[1632 rows x 2 columns]"
            ],
            "text/html": [
              "\n",
              "  <div id=\"df-71c735f2-05ff-4cea-a60d-c9c6cfa89158\">\n",
              "    <div class=\"colab-df-container\">\n",
              "      <div>\n",
              "<style scoped>\n",
              "    .dataframe tbody tr th:only-of-type {\n",
              "        vertical-align: middle;\n",
              "    }\n",
              "\n",
              "    .dataframe tbody tr th {\n",
              "        vertical-align: top;\n",
              "    }\n",
              "\n",
              "    .dataframe thead th {\n",
              "        text-align: right;\n",
              "    }\n",
              "</style>\n",
              "<table border=\"1\" class=\"dataframe\">\n",
              "  <thead>\n",
              "    <tr style=\"text-align: right;\">\n",
              "      <th></th>\n",
              "      <th>Close</th>\n",
              "      <th>5_Day_Price_Forecast</th>\n",
              "    </tr>\n",
              "  </thead>\n",
              "  <tbody>\n",
              "    <tr>\n",
              "      <th>2017-11-09</th>\n",
              "      <td>320.884003</td>\n",
              "      <td>337.631012</td>\n",
              "    </tr>\n",
              "    <tr>\n",
              "      <th>2017-11-10</th>\n",
              "      <td>299.252991</td>\n",
              "      <td>333.356995</td>\n",
              "    </tr>\n",
              "    <tr>\n",
              "      <th>2017-11-11</th>\n",
              "      <td>314.681000</td>\n",
              "      <td>330.924011</td>\n",
              "    </tr>\n",
              "    <tr>\n",
              "      <th>2017-11-12</th>\n",
              "      <td>307.907990</td>\n",
              "      <td>332.394012</td>\n",
              "    </tr>\n",
              "    <tr>\n",
              "      <th>2017-11-13</th>\n",
              "      <td>316.716003</td>\n",
              "      <td>347.612000</td>\n",
              "    </tr>\n",
              "    <tr>\n",
              "      <th>...</th>\n",
              "      <td>...</td>\n",
              "      <td>...</td>\n",
              "    </tr>\n",
              "    <tr>\n",
              "      <th>2022-04-24</th>\n",
              "      <td>2922.732666</td>\n",
              "      <td>NaN</td>\n",
              "    </tr>\n",
              "    <tr>\n",
              "      <th>2022-04-25</th>\n",
              "      <td>3009.393555</td>\n",
              "      <td>NaN</td>\n",
              "    </tr>\n",
              "    <tr>\n",
              "      <th>2022-04-26</th>\n",
              "      <td>2808.298340</td>\n",
              "      <td>NaN</td>\n",
              "    </tr>\n",
              "    <tr>\n",
              "      <th>2022-04-27</th>\n",
              "      <td>2888.929688</td>\n",
              "      <td>NaN</td>\n",
              "    </tr>\n",
              "    <tr>\n",
              "      <th>2022-04-28</th>\n",
              "      <td>2879.540283</td>\n",
              "      <td>NaN</td>\n",
              "    </tr>\n",
              "  </tbody>\n",
              "</table>\n",
              "<p>1632 rows × 2 columns</p>\n",
              "</div>\n",
              "      <button class=\"colab-df-convert\" onclick=\"convertToInteractive('df-71c735f2-05ff-4cea-a60d-c9c6cfa89158')\"\n",
              "              title=\"Convert this dataframe to an interactive table.\"\n",
              "              style=\"display:none;\">\n",
              "        \n",
              "  <svg xmlns=\"http://www.w3.org/2000/svg\" height=\"24px\"viewBox=\"0 0 24 24\"\n",
              "       width=\"24px\">\n",
              "    <path d=\"M0 0h24v24H0V0z\" fill=\"none\"/>\n",
              "    <path d=\"M18.56 5.44l.94 2.06.94-2.06 2.06-.94-2.06-.94-.94-2.06-.94 2.06-2.06.94zm-11 1L8.5 8.5l.94-2.06 2.06-.94-2.06-.94L8.5 2.5l-.94 2.06-2.06.94zm10 10l.94 2.06.94-2.06 2.06-.94-2.06-.94-.94-2.06-.94 2.06-2.06.94z\"/><path d=\"M17.41 7.96l-1.37-1.37c-.4-.4-.92-.59-1.43-.59-.52 0-1.04.2-1.43.59L10.3 9.45l-7.72 7.72c-.78.78-.78 2.05 0 2.83L4 21.41c.39.39.9.59 1.41.59.51 0 1.02-.2 1.41-.59l7.78-7.78 2.81-2.81c.8-.78.8-2.07 0-2.86zM5.41 20L4 18.59l7.72-7.72 1.47 1.35L5.41 20z\"/>\n",
              "  </svg>\n",
              "      </button>\n",
              "      \n",
              "  <style>\n",
              "    .colab-df-container {\n",
              "      display:flex;\n",
              "      flex-wrap:wrap;\n",
              "      gap: 12px;\n",
              "    }\n",
              "\n",
              "    .colab-df-convert {\n",
              "      background-color: #E8F0FE;\n",
              "      border: none;\n",
              "      border-radius: 50%;\n",
              "      cursor: pointer;\n",
              "      display: none;\n",
              "      fill: #1967D2;\n",
              "      height: 32px;\n",
              "      padding: 0 0 0 0;\n",
              "      width: 32px;\n",
              "    }\n",
              "\n",
              "    .colab-df-convert:hover {\n",
              "      background-color: #E2EBFA;\n",
              "      box-shadow: 0px 1px 2px rgba(60, 64, 67, 0.3), 0px 1px 3px 1px rgba(60, 64, 67, 0.15);\n",
              "      fill: #174EA6;\n",
              "    }\n",
              "\n",
              "    [theme=dark] .colab-df-convert {\n",
              "      background-color: #3B4455;\n",
              "      fill: #D2E3FC;\n",
              "    }\n",
              "\n",
              "    [theme=dark] .colab-df-convert:hover {\n",
              "      background-color: #434B5C;\n",
              "      box-shadow: 0px 1px 3px 1px rgba(0, 0, 0, 0.15);\n",
              "      filter: drop-shadow(0px 1px 2px rgba(0, 0, 0, 0.3));\n",
              "      fill: #FFFFFF;\n",
              "    }\n",
              "  </style>\n",
              "\n",
              "      <script>\n",
              "        const buttonEl =\n",
              "          document.querySelector('#df-71c735f2-05ff-4cea-a60d-c9c6cfa89158 button.colab-df-convert');\n",
              "        buttonEl.style.display =\n",
              "          google.colab.kernel.accessAllowed ? 'block' : 'none';\n",
              "\n",
              "        async function convertToInteractive(key) {\n",
              "          const element = document.querySelector('#df-71c735f2-05ff-4cea-a60d-c9c6cfa89158');\n",
              "          const dataTable =\n",
              "            await google.colab.kernel.invokeFunction('convertToInteractive',\n",
              "                                                     [key], {});\n",
              "          if (!dataTable) return;\n",
              "\n",
              "          const docLinkHtml = 'Like what you see? Visit the ' +\n",
              "            '<a target=\"_blank\" href=https://colab.research.google.com/notebooks/data_table.ipynb>data table notebook</a>'\n",
              "            + ' to learn more about interactive tables.';\n",
              "          element.innerHTML = '';\n",
              "          dataTable['output_type'] = 'display_data';\n",
              "          await google.colab.output.renderOutput(dataTable, element);\n",
              "          const docLink = document.createElement('div');\n",
              "          docLink.innerHTML = docLinkHtml;\n",
              "          element.appendChild(docLink);\n",
              "        }\n",
              "      </script>\n",
              "    </div>\n",
              "  </div>\n",
              "  "
            ]
          },
          "metadata": {},
          "execution_count": 10
        }
      ]
    },
    {
      "cell_type": "code",
      "source": [
        "# Remove the last 5 days data from the dataset we will predict by ourself\n",
        "X = np.array(data[['Close']])\n",
        "X = X[:data.shape[0] - future_days]\n",
        "X"
      ],
      "metadata": {
        "colab": {
          "base_uri": "https://localhost:8080/"
        },
        "id": "s0FAviYhNpkf",
        "outputId": "384e21dc-263d-4a8e-f094-6f864ac5db7a"
      },
      "execution_count": null,
      "outputs": [
        {
          "output_type": "execute_result",
          "data": {
            "text/plain": [
              "array([[ 320.884003],\n",
              "       [ 299.252991],\n",
              "       [ 314.681   ],\n",
              "       ...,\n",
              "       [2987.480713],\n",
              "       [2964.835693],\n",
              "       [2938.114014]])"
            ]
          },
          "metadata": {},
          "execution_count": 12
        }
      ]
    },
    {
      "cell_type": "code",
      "source": [
        "# let's make y dataset (target)\n",
        "\n",
        "y = np.array(data[str(future_days)+'_Day_Price_Forecast'])\n",
        "y = y[:-future_days]\n",
        "y"
      ],
      "metadata": {
        "colab": {
          "base_uri": "https://localhost:8080/"
        },
        "id": "M6AVrUs1RQzR",
        "outputId": "5b80a7fd-3b14-4ea4-fe89-2f11f5c6ca7e"
      },
      "execution_count": null,
      "outputs": [
        {
          "output_type": "execute_result",
          "data": {
            "text/plain": [
              "array([ 337.631012,  333.356995,  330.924011, ..., 2808.29834 ,\n",
              "       2888.929688, 2879.540283])"
            ]
          },
          "metadata": {},
          "execution_count": 13
        }
      ]
    },
    {
      "cell_type": "code",
      "source": [
        "# split the data to tain and test\n",
        "\n",
        "from sklearn.model_selection import train_test_split\n",
        "\n",
        "X_train,X_test, y_train, y_test = train_test_split(X,y,test_size = 0.2)"
      ],
      "metadata": {
        "id": "mFTTscUdRzlA"
      },
      "execution_count": null,
      "outputs": []
    },
    {
      "cell_type": "code",
      "source": [
        "# Using SVR for the model\n",
        "\n",
        "from sklearn.svm import SVR\n",
        "svr_rbf = SVR(kernel = 'rbf', C=1e3, gamma = 0.00001)\n",
        "svr_rbf.fit(X_train,y_train)"
      ],
      "metadata": {
        "colab": {
          "base_uri": "https://localhost:8080/"
        },
        "id": "ui3v9iZsSOw-",
        "outputId": "23e5941a-02ee-4563-a531-dcfdb49b5db4"
      },
      "execution_count": null,
      "outputs": [
        {
          "output_type": "execute_result",
          "data": {
            "text/plain": [
              "SVR(C=1000.0, gamma=1e-05)"
            ]
          },
          "metadata": {},
          "execution_count": 16
        }
      ]
    },
    {
      "cell_type": "code",
      "source": [
        "# Let's check the performance of the model\n",
        "svr_rbf_confiednce = svr_rbf.score(X_test, y_test)\n",
        "\n",
        "print('svr_rbf Accuracy: ', np.round(svr_rbf_confiednce*100,2), '%')"
      ],
      "metadata": {
        "colab": {
          "base_uri": "https://localhost:8080/"
        },
        "id": "hvDgCVi7SmOO",
        "outputId": "30744c17-20fd-4055-f6d7-41a486ac6217"
      },
      "execution_count": null,
      "outputs": [
        {
          "output_type": "stream",
          "name": "stdout",
          "text": [
            "svr_rbf Accuracy:  97.55 %\n"
          ]
        }
      ]
    },
    {
      "cell_type": "code",
      "source": [
        "# now checking the predicted values and actual values\n",
        "svm_prediction = svr_rbf.predict(X_test)\n",
        "print(svm_prediction)\n"
      ],
      "metadata": {
        "colab": {
          "base_uri": "https://localhost:8080/"
        },
        "id": "3tHyo2mTTK7M",
        "outputId": "93faec5e-9369-4bd7-c786-2b1a4b0bd26a"
      },
      "execution_count": null,
      "outputs": [
        {
          "output_type": "stream",
          "name": "stdout",
          "text": [
            "[ 196.75736088  621.755457    233.24684487 2839.53428802  298.44869096\n",
            "  267.15810075  211.54599276  211.65383008 2668.63346035  467.85928268\n",
            " 3327.69848268  287.69270355  302.79081457  181.47673349  615.06267388\n",
            " 2684.57373089 3038.59709275 3116.89847963  213.46364312  826.08304672\n",
            " 4027.51432283  230.87336335  227.40496722 3295.01878751  173.87330687\n",
            " 2873.50158166  215.94354608  604.85696082  735.81155592  479.88307678\n",
            " 1455.74010596 4337.59129428 3449.08971773  523.05837928 4194.55952012\n",
            "  120.53417312  621.47902057  547.49580647 2223.90908164  771.81426919\n",
            "  451.27341989  128.65060878 2607.18108813 4096.44120163  173.21866316\n",
            "  467.34779485  165.63935659  180.23634967 3996.94418427  540.97402638\n",
            "  148.73080555 2509.90859356 1761.64847517 3239.16233233  164.18475457\n",
            "  135.68700278  230.17207519 2681.85712126  470.34008528  199.51903833\n",
            "  228.48555949 2647.47441404 1271.77118964  265.34819228 4102.55391278\n",
            " 3187.13109782  134.10157755 3119.85572624  143.98701798  640.12343515\n",
            "  268.50014713  171.81365826 1230.94037967  107.25354485  231.4415927\n",
            "  187.19124102 1093.39729497  220.74940743  379.99284129 3223.51269622\n",
            "  184.99914443  182.23259161  229.60520623 3021.82553897 1969.97507761\n",
            "  608.95435294  166.7712845  1806.65111424  686.16810997 1187.64505563\n",
            "  481.74378035 4071.6512125   958.63461169  387.716962   3223.10670941\n",
            "  234.5293626   318.11605555  217.93875336  617.69942012 2694.11762998\n",
            "  134.49393442  163.79587547  466.79863353  243.47950342  379.82100307\n",
            "  526.03732351  545.78831773 3124.80124862  645.97471489  172.29718975\n",
            "  138.91351448  185.63137621 2430.11929252  125.79666262  391.53297858\n",
            "  179.94049209 1472.0416295   210.80496746  134.41037908  638.95313579\n",
            "  567.78217659  136.71690968  155.27179234  297.80491932  135.28311987\n",
            "  144.28763841  719.17013492  277.06818382 4368.60753279  213.95191718\n",
            " 1725.31857818  180.88016716  178.28534684  126.73302183  244.10211055\n",
            " 1293.05022746 1824.89667595 2778.58461958 1816.2244586   171.40494353\n",
            "  196.78085037  195.06949944 3141.32726396 2363.59144461  107.62847405\n",
            "  170.53567848 1218.44247383  718.37686267  146.22244144  170.1065491\n",
            " 4359.80091178  135.1871551   272.64844444  416.5018881   196.440335\n",
            "  118.50509481  223.55487658  134.20042761  676.97018094 3246.07324483\n",
            "  309.21292685  186.5775339  2245.70923702  316.70161211  204.16411237\n",
            " 1783.30834634  453.47975365  174.70252584 2548.57403257 3177.6886741\n",
            "  195.16670344  419.21785542 2076.98489078 4090.62371113  235.97364975\n",
            "  814.76585255  141.24365335  838.14579927 3650.5010754   118.38254593\n",
            "  467.68335511 1100.65495487 2693.06631974 4012.32419756  122.4834599\n",
            "  138.68803104  709.77891317 3902.14288583 4354.26273188  172.38525523\n",
            " 3285.64677227  485.60445533 3442.59115786  178.63035931  168.4538833\n",
            "  387.83101481  179.84410592  324.47205252  464.40638215  160.34939382\n",
            "  225.78428549  283.06348628 1432.47027033 4065.77278499 3129.38240084\n",
            "  128.3471282   222.32649653  200.40284566  177.49210209 3088.026218\n",
            "  232.119898    127.20953273  436.56244739  737.47478889  267.07832264\n",
            "  460.10189802  684.58227092 4216.04519149 2271.59333525 3528.95451685\n",
            "  210.3643188   457.51774789 3892.26052151  947.95544611  236.1860609\n",
            "  267.81823151  148.58804877 1274.25860498  388.18827049  159.9309251\n",
            " 1784.671561    280.48094578 2685.91296773 2475.62291543  231.7444184\n",
            "  377.26645498 3020.9659246   531.65429281  170.82019263 1013.58188452\n",
            "  373.27846061  826.59368485  355.42556898 3144.07965943  207.61680555\n",
            "  215.09309083  157.32425915  193.8815302   160.24129964 1896.35898595\n",
            "  139.66739616  249.07097788 3116.82904647  132.01067158  188.94893356\n",
            "  181.44586547  179.98140233 2316.27851502  613.82736613 1122.7587855\n",
            "  599.41820929  438.34208781  438.99609896  226.62874958  516.47916693\n",
            "  210.84075091  174.7235003   202.19422696 4055.5488005   368.47208306\n",
            "  292.7760556  3170.92068045 4031.96733372  253.52161248  567.87102177\n",
            " 1811.35018138 1802.15314648  282.3387273   247.49726905  285.39349892\n",
            " 2953.41058612  169.60496175  745.36458163 4254.97464619 2088.74691478\n",
            "  200.49813567  482.13249136  447.74518723  372.89559044 2305.18965405\n",
            "  135.87999573 4156.98157413 2816.47846524 3318.91890134  791.79318307\n",
            "  291.55499793  117.09762275 2402.18620191 3870.92052979  268.3202821\n",
            "  188.45089551 3203.65394648 3187.35267175  478.40315194  715.70922341\n",
            "  211.72386901  796.84846084  110.74923965  277.64032714 3303.82689107\n",
            " 1276.48788164 3088.47900101  409.28088324 1326.04709588  139.14337027\n",
            " 1314.86143167  199.5640577  2234.23448297 3910.20960997  858.88390399\n",
            "  403.06847171  226.88721559  136.39442029  580.7961593   168.17221101\n",
            "  138.86692834]\n"
          ]
        }
      ]
    },
    {
      "cell_type": "code",
      "source": [
        "print(y_test)"
      ],
      "metadata": {
        "colab": {
          "base_uri": "https://localhost:8080/"
        },
        "id": "w2Il14lqTxjr",
        "outputId": "b67b4411-35c2-42f5-f157-75cdfba10f56"
      },
      "execution_count": null,
      "outputs": [
        {
          "output_type": "stream",
          "name": "stdout",
          "text": [
            "[ 215.325378  615.416016  222.218002 2590.359619  336.753174  269.431793\n",
            "  217.871567  185.687683 2547.092041  434.40799  3429.169678  259.763977\n",
            "  333.356995  197.224716  538.229797 2772.055664 2888.929688 2934.138916\n",
            "  199.193283  856.853027 4108.015625  239.075531  196.727005 3587.974854\n",
            "  136.701004 2973.131104  212.289413  519.742004 1040.233032  427.52301\n",
            " 1660.909546 4274.743164 3952.293945  591.807983 4216.365234  117.542648\n",
            "  669.924011  446.278992 2435.10498   679.585999  509.744568  132.737167\n",
            " 2688.278809 4414.746582  164.736328  459.940308  163.051178  149.175003\n",
            " 3715.148438  499.641998  146.267044 2688.195068 1654.741577 3286.935303\n",
            "  167.623444  138.0345    231.634995 2559.562988  442.36499   203.352005\n",
            "  235.772461 2231.733154 1236.512207  226.753387 4511.302246 3040.916504\n",
            "  135.127075 3330.530762  166.230682  609.817871  249.474335  247.153061\n",
            " 1382.274048  109.496231  229.274261  221.280853  986.229004  229.268188\n",
            "  369.136902 2295.705566  177.455551  197.875     229.074112 3108.062012\n",
            " 1446.033691  545.797363  170.503479 1691.333984  538.643982  697.950989\n",
            "  436.085999 3628.531738  849.971008  394.961945 3411.79248   227.600998\n",
            "  330.924011  183.330994  557.174988 2518.94458   136.195892  161.142426\n",
            "  464.036987  233.0867    385.544373  474.519989  457.671997 3248.288574\n",
            "  634.854187  162.402786  132.24942   203.091934 2139.664795  123.260216\n",
            "  344.503174  211.393036 1382.522827  186.607742  135.069366  682.642334\n",
            "  592.984985  141.514099  186.914001  291.596436  140.519196  142.927109\n",
            "  975.50769   226.760498 4409.931152  202.370346 1799.16626   182.07515\n",
            "  181.35553   132.372513  231.702667 1230.990601 1848.458252 3167.856201\n",
            " 1924.685425  197.317535  200.186005  210.096741 2883.463379 1813.217285\n",
            "  101.112457  158.434937 1053.689941  696.530029  152.539688  157.295074\n",
            " 4620.554688  143.546646  310.424683  403.99704   211.748993   95.142059\n",
            "  220.941864  127.214607  707.049988 3020.089844  276.276703  171.629425\n",
            " 2299.187744  269.458801  223.522705 1805.084106  447.559082  181.14946\n",
            " 2706.125    3372.258301  203.727005  384.001038 2160.768311 2460.679199\n",
            "  206.733536  883.86499   157.746201  853.684021 2784.294189  116.388901\n",
            "  441.721008 1154.930054 2814.854492 4324.626953  107.061012  136.758682\n",
            "  674.859985 3157.751465 4119.587402  165.826096 3575.716797  463.449005\n",
            " 3425.852783  183.966919  187.325317  492.94101   208.608749  355.159424\n",
            "  471.630432  173.751266  218.505005  284.105011 1677.846802 3769.697021\n",
            " 3433.732666  122.100388  217.046371  199.883606  197.113174 2993.40332\n",
            "  237.853088  146.130844  416.439789  962.719971  255.215881  702.767029\n",
            "  785.624023 4445.10498  1911.175659 2764.431152  181.397003  474.626434\n",
            " 3877.650879  895.370972  228.989822  257.949463  136.125961 1121.570923\n",
            "  337.602112  171.63858  1768.035034  296.498993 2890.94165  2746.380127\n",
            "  185.065994  365.812286 3031.067139  394.644989  172.737701 1299.73999\n",
            "  379.512848  923.921021  365.590485 2573.816162  210.074005  208.694397\n",
            "  162.122787  194.706207  148.965073 2124.776611  165.955353  239.604584\n",
            " 3009.393555  136.276779  218.050049  176.013504  188.105515 2211.625732\n",
            "  533.283997 1182.359985  568.567322  335.260071  461.00528   246.670013\n",
            "  570.686646  222.669724  174.92099   220.675125 3933.844482  341.786072\n",
            "  197.951004 2628.648438 3930.257324  260.90329   589.355591 2113.605469\n",
            " 2189.21875   300.834015  237.49321   273.75415  2639.299316  196.846283\n",
            "  772.640991 4486.243164 1817.296631  125.214302  353.362274  460.149841\n",
            "  430.540009 2315.161865  140.000549 3587.506104 2950.118408 3238.111572\n",
            "  878.265015  281.944     119.430885 2610.15332  3418.408203  219.848511\n",
            "  207.158691 3790.98999  2405.181152  695.815979  708.870972  209.975006\n",
            "  845.257996  116.759499  279.645996 3522.833496 1253.187134 3336.634521\n",
            "  322.112    1155.150024  133.593567 1218.453003  201.902313 2226.114258\n",
            " 3829.564941  816.950989  492.734985  219.629608  138.979202  580.04303\n",
            "  179.499329  134.442886]\n"
          ]
        }
      ]
    },
    {
      "cell_type": "code",
      "source": [
        "# Visualize the dataset results by plotting\n",
        "plt.figure(figsize=(24,6))\n",
        "plt.plot(svm_prediction,label='Prediction', lw=2,alpha=0.7)\n",
        "plt.plot(y_test,label='Actual', lw=2,alpha=0.7)\n",
        "plt.title('Prediction vs Actual')\n",
        "plt.xlabel('Time')\n",
        "plt.ylabel('Price in USD')\n",
        "plt.legend()\n",
        "plt.xticks(rotation=45)\n",
        "plt.show()"
      ],
      "metadata": {
        "colab": {
          "base_uri": "https://localhost:8080/",
          "height": 415
        },
        "id": "5h3SiSkTT9Hb",
        "outputId": "2ea6f8ce-8b25-4ec5-cb8b-a5bd6ebd0f78"
      },
      "execution_count": null,
      "outputs": [
        {
          "output_type": "display_data",
          "data": {
            "text/plain": [
              "<Figure size 1728x432 with 1 Axes>"
            ],
            "image/png": "[encoded data removed]"
          },
          "metadata": {
            "needs_background": "light"
          }
        }
      ]
    },
    {
      "cell_type": "code",
      "source": [
        ""
      ],
      "metadata": {
        "id": "KCHs8qxIVL5J"
      },
      "execution_count": null,
      "outputs": []
    },
    {
      "cell_type": "code",
      "source": [
        ""
      ],
      "metadata": {
        "id": "gctQGZPsWD7v"
      },
      "execution_count": null,
      "outputs": []
    },
    {
      "cell_type": "code",
      "source": [
        ""
      ],
      "metadata": {
        "id": "PSaxIUyXWD-X"
      },
      "execution_count": null,
      "outputs": []
    },
    {
      "cell_type": "code",
      "source": [
        ""
      ],
      "metadata": {
        "id": "GbjEIE9lWEBI"
      },
      "execution_count": null,
      "outputs": []
    },
    {
      "cell_type": "code",
      "source": [
        ""
      ],
      "metadata": {
        "id": "8RZmdknbWEEE"
      },
      "execution_count": null,
      "outputs": []
    },
    {
      "cell_type": "code",
      "source": [
        ""
      ],
      "metadata": {
        "id": "206HM3ybWEG0"
      },
      "execution_count": null,
      "outputs": []
    },
    {
      "cell_type": "code",
      "source": [
        ""
      ],
      "metadata": {
        "id": "fotv1DyHWEJW"
      },
      "execution_count": null,
      "outputs": []
    },
    {
      "cell_type": "code",
      "source": [
        ""
      ],
      "metadata": {
        "id": "VMQJRLRLWEMh"
      },
      "execution_count": null,
      "outputs": []
    },
    {
      "cell_type": "markdown",
      "source": [
        "# **Ethereum Price Prediction using Time2Vec + LSTM Reinforcment Learning** "
      ],
      "metadata": {
        "id": "6mrQuTIkWG19"
      }
    },
    {
      "cell_type": "code",
      "source": [
        "!pip install keras-hypetune"
      ],
      "metadata": {
        "colab": {
          "base_uri": "https://localhost:8080/"
        },
        "id": "ZlmMIcOnXEC_",
        "outputId": "a6948914-6517-4638-b827-d7f029d1e883"
      },
      "execution_count": 30,
      "outputs": [
        {
          "output_type": "stream",
          "name": "stdout",
          "text": [
            "Collecting keras-hypetune\n",
            "  Downloading keras_hypetune-0.2.1-py3-none-any.whl (12 kB)\n",
            "Requirement already satisfied: numpy in /usr/local/lib/python3.7/dist-packages (from keras-hypetune) (1.21.6)\n",
            "Collecting hyperopt==0.2.5\n",
            "  Downloading hyperopt-0.2.5-py2.py3-none-any.whl (965 kB)\n",
            "\u001b[K     |████████████████████████████████| 965 kB 16.2 MB/s \n",
            "\u001b[?25hRequirement already satisfied: six in /usr/local/lib/python3.7/dist-packages (from hyperopt==0.2.5->keras-hypetune) (1.15.0)\n",
            "Requirement already satisfied: scipy in /usr/local/lib/python3.7/dist-packages (from hyperopt==0.2.5->keras-hypetune) (1.4.1)\n",
            "Requirement already satisfied: tqdm in /usr/local/lib/python3.7/dist-packages (from hyperopt==0.2.5->keras-hypetune) (4.64.0)\n",
            "Requirement already satisfied: networkx>=2.2 in /usr/local/lib/python3.7/dist-packages (from hyperopt==0.2.5->keras-hypetune) (2.6.3)\n",
            "Requirement already satisfied: future in /usr/local/lib/python3.7/dist-packages (from hyperopt==0.2.5->keras-hypetune) (0.16.0)\n",
            "Requirement already satisfied: cloudpickle in /usr/local/lib/python3.7/dist-packages (from hyperopt==0.2.5->keras-hypetune) (1.3.0)\n",
            "Installing collected packages: hyperopt, keras-hypetune\n",
            "  Attempting uninstall: hyperopt\n",
            "    Found existing installation: hyperopt 0.1.2\n",
            "    Uninstalling hyperopt-0.1.2:\n",
            "      Successfully uninstalled hyperopt-0.1.2\n",
            "Successfully installed hyperopt-0.2.5 keras-hypetune-0.2.1\n"
          ]
        }
      ]
    },
    {
      "cell_type": "code",
      "source": [
        "# Data Manipulation\n",
        "import numpy as np\n",
        "import pandas as pd\n",
        "\n",
        "# Plotting graphs\n",
        "import matplotlib.pyplot as plt\n",
        "\n",
        "# Machine learning\n",
        "from sklearn.preprocessing import MinMaxScaler\n",
        "import tensorflow as tf\n",
        "from tensorflow.keras.layers import Bidirectional, Dropout, Activation, Dense, LSTM\n",
        "from tensorflow.keras.models import Sequential\n",
        "from kerashypetune import KerasGridSearch\n"
      ],
      "metadata": {
        "id": "pab1G0nvWHYG"
      },
      "execution_count": 31,
      "outputs": []
    },
    {
      "cell_type": "code",
      "source": [
        "col_list = [\"Date\",\"Open\",\"High\",\"Low\",\"Close\",\"Adj Close\",\"Volume\"]\n",
        "RLdata = pd.read_csv('/content/drive/MyDrive/CCTA Presentation and Project/ETH-USD.csv', usecols=col_list)\n",
        "RLdata.head()"
      ],
      "metadata": {
        "colab": {
          "base_uri": "https://localhost:8080/",
          "height": 206
        },
        "id": "8Op8eVamWxjP",
        "outputId": "a5989e84-7408-45e0-adc2-5c778845bdf3"
      },
      "execution_count": 32,
      "outputs": [
        {
          "output_type": "execute_result",
          "data": {
            "text/plain": [
              "         Date        Open        High         Low       Close   Adj Close  \\\n",
              "0  2017-11-09  308.644989  329.451996  307.056000  320.884003  320.884003   \n",
              "1  2017-11-10  320.670990  324.717987  294.541992  299.252991  299.252991   \n",
              "2  2017-11-11  298.585999  319.453003  298.191986  314.681000  314.681000   \n",
              "3  2017-11-12  314.690002  319.153015  298.513000  307.907990  307.907990   \n",
              "4  2017-11-13  307.024994  328.415009  307.024994  316.716003  316.716003   \n",
              "\n",
              "       Volume  \n",
              "0   893249984  \n",
              "1   885985984  \n",
              "2   842300992  \n",
              "3  1613479936  \n",
              "4  1041889984  "
            ],
            "text/html": [
              "\n",
              "  <div id=\"df-ef8e1e2f-11d8-45bc-86ae-b97201f7b057\">\n",
              "    <div class=\"colab-df-container\">\n",
              "      <div>\n",
              "<style scoped>\n",
              "    .dataframe tbody tr th:only-of-type {\n",
              "        vertical-align: middle;\n",
              "    }\n",
              "\n",
              "    .dataframe tbody tr th {\n",
              "        vertical-align: top;\n",
              "    }\n",
              "\n",
              "    .dataframe thead th {\n",
              "        text-align: right;\n",
              "    }\n",
              "</style>\n",
              "<table border=\"1\" class=\"dataframe\">\n",
              "  <thead>\n",
              "    <tr style=\"text-align: right;\">\n",
              "      <th></th>\n",
              "      <th>Date</th>\n",
              "      <th>Open</th>\n",
              "      <th>High</th>\n",
              "      <th>Low</th>\n",
              "      <th>Close</th>\n",
              "      <th>Adj Close</th>\n",
              "      <th>Volume</th>\n",
              "    </tr>\n",
              "  </thead>\n",
              "  <tbody>\n",
              "    <tr>\n",
              "      <th>0</th>\n",
              "      <td>2017-11-09</td>\n",
              "      <td>308.644989</td>\n",
              "      <td>329.451996</td>\n",
              "      <td>307.056000</td>\n",
              "      <td>320.884003</td>\n",
              "      <td>320.884003</td>\n",
              "      <td>893249984</td>\n",
              "    </tr>\n",
              "    <tr>\n",
              "      <th>1</th>\n",
              "      <td>2017-11-10</td>\n",
              "      <td>320.670990</td>\n",
              "      <td>324.717987</td>\n",
              "      <td>294.541992</td>\n",
              "      <td>299.252991</td>\n",
              "      <td>299.252991</td>\n",
              "      <td>885985984</td>\n",
              "    </tr>\n",
              "    <tr>\n",
              "      <th>2</th>\n",
              "      <td>2017-11-11</td>\n",
              "      <td>298.585999</td>\n",
              "      <td>319.453003</td>\n",
              "      <td>298.191986</td>\n",
              "      <td>314.681000</td>\n",
              "      <td>314.681000</td>\n",
              "      <td>842300992</td>\n",
              "    </tr>\n",
              "    <tr>\n",
              "      <th>3</th>\n",
              "      <td>2017-11-12</td>\n",
              "      <td>314.690002</td>\n",
              "      <td>319.153015</td>\n",
              "      <td>298.513000</td>\n",
              "      <td>307.907990</td>\n",
              "      <td>307.907990</td>\n",
              "      <td>1613479936</td>\n",
              "    </tr>\n",
              "    <tr>\n",
              "      <th>4</th>\n",
              "      <td>2017-11-13</td>\n",
              "      <td>307.024994</td>\n",
              "      <td>328.415009</td>\n",
              "      <td>307.024994</td>\n",
              "      <td>316.716003</td>\n",
              "      <td>316.716003</td>\n",
              "      <td>1041889984</td>\n",
              "    </tr>\n",
              "  </tbody>\n",
              "</table>\n",
              "</div>\n",
              "      <button class=\"colab-df-convert\" onclick=\"convertToInteractive('df-ef8e1e2f-11d8-45bc-86ae-b97201f7b057')\"\n",
              "              title=\"Convert this dataframe to an interactive table.\"\n",
              "              style=\"display:none;\">\n",
              "        \n",
              "  <svg xmlns=\"http://www.w3.org/2000/svg\" height=\"24px\"viewBox=\"0 0 24 24\"\n",
              "       width=\"24px\">\n",
              "    <path d=\"M0 0h24v24H0V0z\" fill=\"none\"/>\n",
              "    <path d=\"M18.56 5.44l.94 2.06.94-2.06 2.06-.94-2.06-.94-.94-2.06-.94 2.06-2.06.94zm-11 1L8.5 8.5l.94-2.06 2.06-.94-2.06-.94L8.5 2.5l-.94 2.06-2.06.94zm10 10l.94 2.06.94-2.06 2.06-.94-2.06-.94-.94-2.06-.94 2.06-2.06.94z\"/><path d=\"M17.41 7.96l-1.37-1.37c-.4-.4-.92-.59-1.43-.59-.52 0-1.04.2-1.43.59L10.3 9.45l-7.72 7.72c-.78.78-.78 2.05 0 2.83L4 21.41c.39.39.9.59 1.41.59.51 0 1.02-.2 1.41-.59l7.78-7.78 2.81-2.81c.8-.78.8-2.07 0-2.86zM5.41 20L4 18.59l7.72-7.72 1.47 1.35L5.41 20z\"/>\n",
              "  </svg>\n",
              "      </button>\n",
              "      \n",
              "  <style>\n",
              "    .colab-df-container {\n",
              "      display:flex;\n",
              "      flex-wrap:wrap;\n",
              "      gap: 12px;\n",
              "    }\n",
              "\n",
              "    .colab-df-convert {\n",
              "      background-color: #E8F0FE;\n",
              "      border: none;\n",
              "      border-radius: 50%;\n",
              "      cursor: pointer;\n",
              "      display: none;\n",
              "      fill: #1967D2;\n",
              "      height: 32px;\n",
              "      padding: 0 0 0 0;\n",
              "      width: 32px;\n",
              "    }\n",
              "\n",
              "    .colab-df-convert:hover {\n",
              "      background-color: #E2EBFA;\n",
              "      box-shadow: 0px 1px 2px rgba(60, 64, 67, 0.3), 0px 1px 3px 1px rgba(60, 64, 67, 0.15);\n",
              "      fill: #174EA6;\n",
              "    }\n",
              "\n",
              "    [theme=dark] .colab-df-convert {\n",
              "      background-color: #3B4455;\n",
              "      fill: #D2E3FC;\n",
              "    }\n",
              "\n",
              "    [theme=dark] .colab-df-convert:hover {\n",
              "      background-color: #434B5C;\n",
              "      box-shadow: 0px 1px 3px 1px rgba(0, 0, 0, 0.15);\n",
              "      filter: drop-shadow(0px 1px 2px rgba(0, 0, 0, 0.3));\n",
              "      fill: #FFFFFF;\n",
              "    }\n",
              "  </style>\n",
              "\n",
              "      <script>\n",
              "        const buttonEl =\n",
              "          document.querySelector('#df-ef8e1e2f-11d8-45bc-86ae-b97201f7b057 button.colab-df-convert');\n",
              "        buttonEl.style.display =\n",
              "          google.colab.kernel.accessAllowed ? 'block' : 'none';\n",
              "\n",
              "        async function convertToInteractive(key) {\n",
              "          const element = document.querySelector('#df-ef8e1e2f-11d8-45bc-86ae-b97201f7b057');\n",
              "          const dataTable =\n",
              "            await google.colab.kernel.invokeFunction('convertToInteractive',\n",
              "                                                     [key], {});\n",
              "          if (!dataTable) return;\n",
              "\n",
              "          const docLinkHtml = 'Like what you see? Visit the ' +\n",
              "            '<a target=\"_blank\" href=https://colab.research.google.com/notebooks/data_table.ipynb>data table notebook</a>'\n",
              "            + ' to learn more about interactive tables.';\n",
              "          element.innerHTML = '';\n",
              "          dataTable['output_type'] = 'display_data';\n",
              "          await google.colab.output.renderOutput(dataTable, element);\n",
              "          const docLink = document.createElement('div');\n",
              "          docLink.innerHTML = docLinkHtml;\n",
              "          element.appendChild(docLink);\n",
              "        }\n",
              "      </script>\n",
              "    </div>\n",
              "  </div>\n",
              "  "
            ]
          },
          "metadata": {},
          "execution_count": 32
        }
      ]
    },
    {
      "cell_type": "code",
      "source": [
        "RLdata = RLdata.dropna()\n",
        "RLdata.info()"
      ],
      "metadata": {
        "colab": {
          "base_uri": "https://localhost:8080/"
        },
        "id": "S1NIwb7yXPEV",
        "outputId": "3e7a3cef-ad2b-490c-8b38-cf7ec7aa38cd"
      },
      "execution_count": 33,
      "outputs": [
        {
          "output_type": "stream",
          "name": "stdout",
          "text": [
            "<class 'pandas.core.frame.DataFrame'>\n",
            "Int64Index: 1632 entries, 0 to 1631\n",
            "Data columns (total 7 columns):\n",
            " #   Column     Non-Null Count  Dtype  \n",
            "---  ------     --------------  -----  \n",
            " 0   Date       1632 non-null   object \n",
            " 1   Open       1632 non-null   float64\n",
            " 2   High       1632 non-null   float64\n",
            " 3   Low        1632 non-null   float64\n",
            " 4   Close      1632 non-null   float64\n",
            " 5   Adj Close  1632 non-null   float64\n",
            " 6   Volume     1632 non-null   int64  \n",
            "dtypes: float64(5), int64(1), object(1)\n",
            "memory usage: 102.0+ KB\n"
          ]
        }
      ]
    },
    {
      "cell_type": "code",
      "source": [
        "RLdata = RLdata.reset_index()\n",
        "RLdata"
      ],
      "metadata": {
        "colab": {
          "base_uri": "https://localhost:8080/",
          "height": 424
        },
        "id": "CMVdz_faXU30",
        "outputId": "1be11594-61bb-4536-c016-9b2ef7914961"
      },
      "execution_count": 35,
      "outputs": [
        {
          "output_type": "execute_result",
          "data": {
            "text/plain": [
              "      level_0  index        Date         Open         High          Low  \\\n",
              "0           0      0  2017-11-09   308.644989   329.451996   307.056000   \n",
              "1           1      1  2017-11-10   320.670990   324.717987   294.541992   \n",
              "2           2      2  2017-11-11   298.585999   319.453003   298.191986   \n",
              "3           3      3  2017-11-12   314.690002   319.153015   298.513000   \n",
              "4           4      4  2017-11-13   307.024994   328.415009   307.024994   \n",
              "...       ...    ...         ...          ...          ...          ...   \n",
              "1627     1627   1627  2022-04-24  2937.347168  2961.882080  2922.128662   \n",
              "1628     1628   1628  2022-04-25  2922.990234  3018.415527  2804.507080   \n",
              "1629     1629   1629  2022-04-26  3008.946289  3026.415039  2786.253174   \n",
              "1630     1630   1630  2022-04-27  2808.645996  2911.877441  2802.273438   \n",
              "1631     1631   1631  2022-04-28  2886.861816  2908.538086  2878.147705   \n",
              "\n",
              "            Close    Adj Close       Volume  \n",
              "0      320.884003   320.884003    893249984  \n",
              "1      299.252991   299.252991    885985984  \n",
              "2      314.681000   314.681000    842300992  \n",
              "3      307.907990   307.907990   1613479936  \n",
              "4      316.716003   316.716003   1041889984  \n",
              "...           ...          ...          ...  \n",
              "1627  2922.732666  2922.732666   9696829579  \n",
              "1628  3009.393555  3009.393555  22332690614  \n",
              "1629  2808.298340  2808.298340  19052045399  \n",
              "1630  2888.929688  2888.929688  17419284041  \n",
              "1631  2879.540283  2879.540283  17203394560  \n",
              "\n",
              "[1632 rows x 9 columns]"
            ],
            "text/html": [
              "\n",
              "  <div id=\"df-0d78a3d4-529a-490f-9d20-ea0489e79e1d\">\n",
              "    <div class=\"colab-df-container\">\n",
              "      <div>\n",
              "<style scoped>\n",
              "    .dataframe tbody tr th:only-of-type {\n",
              "        vertical-align: middle;\n",
              "    }\n",
              "\n",
              "    .dataframe tbody tr th {\n",
              "        vertical-align: top;\n",
              "    }\n",
              "\n",
              "    .dataframe thead th {\n",
              "        text-align: right;\n",
              "    }\n",
              "</style>\n",
              "<table border=\"1\" class=\"dataframe\">\n",
              "  <thead>\n",
              "    <tr style=\"text-align: right;\">\n",
              "      <th></th>\n",
              "      <th>level_0</th>\n",
              "      <th>index</th>\n",
              "      <th>Date</th>\n",
              "      <th>Open</th>\n",
              "      <th>High</th>\n",
              "      <th>Low</th>\n",
              "      <th>Close</th>\n",
              "      <th>Adj Close</th>\n",
              "      <th>Volume</th>\n",
              "    </tr>\n",
              "  </thead>\n",
              "  <tbody>\n",
              "    <tr>\n",
              "      <th>0</th>\n",
              "      <td>0</td>\n",
              "      <td>0</td>\n",
              "      <td>2017-11-09</td>\n",
              "      <td>308.644989</td>\n",
              "      <td>329.451996</td>\n",
              "      <td>307.056000</td>\n",
              "      <td>320.884003</td>\n",
              "      <td>320.884003</td>\n",
              "      <td>893249984</td>\n",
              "    </tr>\n",
              "    <tr>\n",
              "      <th>1</th>\n",
              "      <td>1</td>\n",
              "      <td>1</td>\n",
              "      <td>2017-11-10</td>\n",
              "      <td>320.670990</td>\n",
              "      <td>324.717987</td>\n",
              "      <td>294.541992</td>\n",
              "      <td>299.252991</td>\n",
              "      <td>299.252991</td>\n",
              "      <td>885985984</td>\n",
              "    </tr>\n",
              "    <tr>\n",
              "      <th>2</th>\n",
              "      <td>2</td>\n",
              "      <td>2</td>\n",
              "      <td>2017-11-11</td>\n",
              "      <td>298.585999</td>\n",
              "      <td>319.453003</td>\n",
              "      <td>298.191986</td>\n",
              "      <td>314.681000</td>\n",
              "      <td>314.681000</td>\n",
              "      <td>842300992</td>\n",
              "    </tr>\n",
              "    <tr>\n",
              "      <th>3</th>\n",
              "      <td>3</td>\n",
              "      <td>3</td>\n",
              "      <td>2017-11-12</td>\n",
              "      <td>314.690002</td>\n",
              "      <td>319.153015</td>\n",
              "      <td>298.513000</td>\n",
              "      <td>307.907990</td>\n",
              "      <td>307.907990</td>\n",
              "      <td>1613479936</td>\n",
              "    </tr>\n",
              "    <tr>\n",
              "      <th>4</th>\n",
              "      <td>4</td>\n",
              "      <td>4</td>\n",
              "      <td>2017-11-13</td>\n",
              "      <td>307.024994</td>\n",
              "      <td>328.415009</td>\n",
              "      <td>307.024994</td>\n",
              "      <td>316.716003</td>\n",
              "      <td>316.716003</td>\n",
              "      <td>1041889984</td>\n",
              "    </tr>\n",
              "    <tr>\n",
              "      <th>...</th>\n",
              "      <td>...</td>\n",
              "      <td>...</td>\n",
              "      <td>...</td>\n",
              "      <td>...</td>\n",
              "      <td>...</td>\n",
              "      <td>...</td>\n",
              "      <td>...</td>\n",
              "      <td>...</td>\n",
              "      <td>...</td>\n",
              "    </tr>\n",
              "    <tr>\n",
              "      <th>1627</th>\n",
              "      <td>1627</td>\n",
              "      <td>1627</td>\n",
              "      <td>2022-04-24</td>\n",
              "      <td>2937.347168</td>\n",
              "      <td>2961.882080</td>\n",
              "      <td>2922.128662</td>\n",
              "      <td>2922.732666</td>\n",
              "      <td>2922.732666</td>\n",
              "      <td>9696829579</td>\n",
              "    </tr>\n",
              "    <tr>\n",
              "      <th>1628</th>\n",
              "      <td>1628</td>\n",
              "      <td>1628</td>\n",
              "      <td>2022-04-25</td>\n",
              "      <td>2922.990234</td>\n",
              "      <td>3018.415527</td>\n",
              "      <td>2804.507080</td>\n",
              "      <td>3009.393555</td>\n",
              "      <td>3009.393555</td>\n",
              "      <td>22332690614</td>\n",
              "    </tr>\n",
              "    <tr>\n",
              "      <th>1629</th>\n",
              "      <td>1629</td>\n",
              "      <td>1629</td>\n",
              "      <td>2022-04-26</td>\n",
              "      <td>3008.946289</td>\n",
              "      <td>3026.415039</td>\n",
              "      <td>2786.253174</td>\n",
              "      <td>2808.298340</td>\n",
              "      <td>2808.298340</td>\n",
              "      <td>19052045399</td>\n",
              "    </tr>\n",
              "    <tr>\n",
              "      <th>1630</th>\n",
              "      <td>1630</td>\n",
              "      <td>1630</td>\n",
              "      <td>2022-04-27</td>\n",
              "      <td>2808.645996</td>\n",
              "      <td>2911.877441</td>\n",
              "      <td>2802.273438</td>\n",
              "      <td>2888.929688</td>\n",
              "      <td>2888.929688</td>\n",
              "      <td>17419284041</td>\n",
              "    </tr>\n",
              "    <tr>\n",
              "      <th>1631</th>\n",
              "      <td>1631</td>\n",
              "      <td>1631</td>\n",
              "      <td>2022-04-28</td>\n",
              "      <td>2886.861816</td>\n",
              "      <td>2908.538086</td>\n",
              "      <td>2878.147705</td>\n",
              "      <td>2879.540283</td>\n",
              "      <td>2879.540283</td>\n",
              "      <td>17203394560</td>\n",
              "    </tr>\n",
              "  </tbody>\n",
              "</table>\n",
              "<p>1632 rows × 9 columns</p>\n",
              "</div>\n",
              "      <button class=\"colab-df-convert\" onclick=\"convertToInteractive('df-0d78a3d4-529a-490f-9d20-ea0489e79e1d')\"\n",
              "              title=\"Convert this dataframe to an interactive table.\"\n",
              "              style=\"display:none;\">\n",
              "        \n",
              "  <svg xmlns=\"http://www.w3.org/2000/svg\" height=\"24px\"viewBox=\"0 0 24 24\"\n",
              "       width=\"24px\">\n",
              "    <path d=\"M0 0h24v24H0V0z\" fill=\"none\"/>\n",
              "    <path d=\"M18.56 5.44l.94 2.06.94-2.06 2.06-.94-2.06-.94-.94-2.06-.94 2.06-2.06.94zm-11 1L8.5 8.5l.94-2.06 2.06-.94-2.06-.94L8.5 2.5l-.94 2.06-2.06.94zm10 10l.94 2.06.94-2.06 2.06-.94-2.06-.94-.94-2.06-.94 2.06-2.06.94z\"/><path d=\"M17.41 7.96l-1.37-1.37c-.4-.4-.92-.59-1.43-.59-.52 0-1.04.2-1.43.59L10.3 9.45l-7.72 7.72c-.78.78-.78 2.05 0 2.83L4 21.41c.39.39.9.59 1.41.59.51 0 1.02-.2 1.41-.59l7.78-7.78 2.81-2.81c.8-.78.8-2.07 0-2.86zM5.41 20L4 18.59l7.72-7.72 1.47 1.35L5.41 20z\"/>\n",
              "  </svg>\n",
              "      </button>\n",
              "      \n",
              "  <style>\n",
              "    .colab-df-container {\n",
              "      display:flex;\n",
              "      flex-wrap:wrap;\n",
              "      gap: 12px;\n",
              "    }\n",
              "\n",
              "    .colab-df-convert {\n",
              "      background-color: #E8F0FE;\n",
              "      border: none;\n",
              "      border-radius: 50%;\n",
              "      cursor: pointer;\n",
              "      display: none;\n",
              "      fill: #1967D2;\n",
              "      height: 32px;\n",
              "      padding: 0 0 0 0;\n",
              "      width: 32px;\n",
              "    }\n",
              "\n",
              "    .colab-df-convert:hover {\n",
              "      background-color: #E2EBFA;\n",
              "      box-shadow: 0px 1px 2px rgba(60, 64, 67, 0.3), 0px 1px 3px 1px rgba(60, 64, 67, 0.15);\n",
              "      fill: #174EA6;\n",
              "    }\n",
              "\n",
              "    [theme=dark] .colab-df-convert {\n",
              "      background-color: #3B4455;\n",
              "      fill: #D2E3FC;\n",
              "    }\n",
              "\n",
              "    [theme=dark] .colab-df-convert:hover {\n",
              "      background-color: #434B5C;\n",
              "      box-shadow: 0px 1px 3px 1px rgba(0, 0, 0, 0.15);\n",
              "      filter: drop-shadow(0px 1px 2px rgba(0, 0, 0, 0.3));\n",
              "      fill: #FFFFFF;\n",
              "    }\n",
              "  </style>\n",
              "\n",
              "      <script>\n",
              "        const buttonEl =\n",
              "          document.querySelector('#df-0d78a3d4-529a-490f-9d20-ea0489e79e1d button.colab-df-convert');\n",
              "        buttonEl.style.display =\n",
              "          google.colab.kernel.accessAllowed ? 'block' : 'none';\n",
              "\n",
              "        async function convertToInteractive(key) {\n",
              "          const element = document.querySelector('#df-0d78a3d4-529a-490f-9d20-ea0489e79e1d');\n",
              "          const dataTable =\n",
              "            await google.colab.kernel.invokeFunction('convertToInteractive',\n",
              "                                                     [key], {});\n",
              "          if (!dataTable) return;\n",
              "\n",
              "          const docLinkHtml = 'Like what you see? Visit the ' +\n",
              "            '<a target=\"_blank\" href=https://colab.research.google.com/notebooks/data_table.ipynb>data table notebook</a>'\n",
              "            + ' to learn more about interactive tables.';\n",
              "          element.innerHTML = '';\n",
              "          dataTable['output_type'] = 'display_data';\n",
              "          await google.colab.output.renderOutput(dataTable, element);\n",
              "          const docLink = document.createElement('div');\n",
              "          docLink.innerHTML = docLinkHtml;\n",
              "          element.appendChild(docLink);\n",
              "        }\n",
              "      </script>\n",
              "    </div>\n",
              "  </div>\n",
              "  "
            ]
          },
          "metadata": {},
          "execution_count": 35
        }
      ]
    },
    {
      "cell_type": "code",
      "source": [
        "x_ticks = []\n",
        "x_labels = []\n",
        "temp = 0\n",
        "x = []\n",
        "y = []\n",
        "for i in range(len(RLdata['Date'])):\n",
        "  if(i%70==0):\n",
        "    temp = RLdata['Close'][i]\n",
        "    x_ticks.append(i)\n",
        "    x_labels.append(RLdata['Date'][i])\n",
        "    x.append(i)\n",
        "    y.append(RLdata['Close'][i])\n",
        "    temp=temp+1\n",
        "\n",
        "axes= plt.axes()\n",
        "plt.plot(RLdata['Date'],RLdata['Close'],'--b')\n",
        "plt.xticks(ticks=x_ticks, labels=x_labels)\n",
        "plt.legend(['Close'])\n",
        "plt.xlabel(\"Date\")\n",
        "plt.ylabel(\"Close Price (USD)\")\n",
        "plt.xticks(rotation=90)\n",
        "axes.grid()\n",
        "plt.show()"
      ],
      "metadata": {
        "colab": {
          "base_uri": "https://localhost:8080/",
          "height": 329
        },
        "id": "Pn-Ri9OFXlwk",
        "outputId": "1b181ff8-cc8b-4752-c213-eec849362dee"
      },
      "execution_count": 44,
      "outputs": [
        {
          "output_type": "display_data",
          "data": {
            "text/plain": [
              "<Figure size 432x288 with 1 Axes>"
            ],
            "image/png": "[encoded data removed]"
          },
          "metadata": {
            "needs_background": "light"
          }
        }
      ]
    },
    {
      "cell_type": "markdown",
      "source": [
        "## *Data Normalization*\n",
        "#### -> Improves the accuracy\n",
        "#### -> Remove redundant (duplicated and unnecessary) data\n",
        "#### -> Training time will be more if not do it"
      ],
      "metadata": {
        "id": "HsOop5aTZ-oE"
      }
    },
    {
      "cell_type": "code",
      "source": [
        "scaler = MinMaxScaler()\n",
        "\n",
        "close_price = RLdata.Close.values.reshape(-1, 1) # -1 in reshape function is used when you dont know or want to explicitly tell the dimension of that axis\n",
        "\n",
        "scaled_close = scaler.fit_transform(close_price) # This method performs fit and transform on the input data at a single time and converts the data points"
      ],
      "metadata": {
        "id": "Pbu8ZQltY_Ly"
      },
      "execution_count": 45,
      "outputs": []
    },
    {
      "cell_type": "markdown",
      "source": [
        "### Define Time2Vec + LSTM model"
      ],
      "metadata": {
        "id": "l4paUsn4ax1f"
      }
    },
    {
      "cell_type": "code",
      "source": [
        "from tensorflow.keras import layers, Model, backend as K\n",
        "from tensorflow.keras import backend as K # Keras is a model-level library, providing high-level building blocks for developing deep learning models. It does not handle itself low-level operations such as tensor products, convolutions and so on. Instead, it relies on a specialized, well-optimized tensor manipulation library to do so, serving as the “backend engine” of Keras.\n",
        "from tensorflow.keras.layers import Layer"
      ],
      "metadata": {
        "id": "hzYbwH_kavDI"
      },
      "execution_count": 46,
      "outputs": []
    },
    {
      "cell_type": "code",
      "source": [
        "class T2V(Layer):\n",
        "    \n",
        "    def __init__(self, output_dim=None, **kwargs):\n",
        "        self.output_dim = output_dim\n",
        "        super(T2V, self).__init__(**kwargs)\n",
        "        \n",
        "    def build(self, input_shape):\n",
        "\n",
        "        self.W = self.add_weight(name='W',\n",
        "                                shape=(input_shape[-1], self.output_dim),\n",
        "                                initializer='uniform',\n",
        "                                trainable=True)\n",
        "\n",
        "        self.P = self.add_weight(name='P',\n",
        "                                shape=(input_shape[1], self.output_dim),\n",
        "                                initializer='uniform',\n",
        "                                trainable=True)\n",
        "\n",
        "        self.w = self.add_weight(name='w',\n",
        "                                shape=(input_shape[1], 1),\n",
        "                                initializer='uniform',\n",
        "                                trainable=True)\n",
        "\n",
        "        self.p = self.add_weight(name='p',\n",
        "                                shape=(input_shape[1], 1),\n",
        "                                initializer='uniform',\n",
        "                                trainable=True)\n",
        "\n",
        "        super(T2V, self).build(input_shape)\n",
        "        \n",
        "    def call(self, x):\n",
        "        \n",
        "        original = self.w * x + self.p #if i = 0\n",
        "        sin_trans = K.sin(K.dot(x, self.W) + self.P) # Frequecy and phase shift of sine function, learnable parameters. if 1 <= i <= k\n",
        "        \n",
        "        return K.concatenate([sin_trans, original], -1)"
      ],
      "metadata": {
        "id": "8SQVUWnFdd84"
      },
      "execution_count": 47,
      "outputs": []
    },
    {
      "cell_type": "code",
      "source": [
        "# To create X and Y for you\n",
        "def gen_sequence(id_df, seq_length, seq_cols):\n",
        "    \n",
        "    data_matrix = id_df[seq_cols].values\n",
        "    num_elements = data_matrix.shape[0]\n",
        "\n",
        "    for start, stop in zip(range(0, num_elements-seq_length), range(seq_length, num_elements)):\n",
        "        yield data_matrix[start:stop, :]\n",
        "\n",
        "def gen_labels(id_df, seq_length, label):\n",
        "    \n",
        "    data_matrix = id_df[label].values\n",
        "    num_elements = data_matrix.shape[0]\n",
        "    \n",
        "    return data_matrix[seq_length:num_elements, :]"
      ],
      "metadata": {
        "id": "bpPVQmFteTpn"
      },
      "execution_count": 48,
      "outputs": []
    },
    {
      "cell_type": "code",
      "source": [
        "def T2V_NN(param, dim):\n",
        "    \n",
        "    inp = layers.Input(shape=(dim,1))\n",
        "    x = T2V(param['t2v_dim'])(inp)\n",
        "    x = LSTM(param['unit'], activation=param['act'])(x)\n",
        "    x = Dense(1)(x)\n",
        "    \n",
        "    m = Model(inp, x)\n",
        "    m.compile(loss='mse', optimizer='adam')\n",
        "    \n",
        "    return m"
      ],
      "metadata": {
        "id": "uKi6t1F-eX2X"
      },
      "execution_count": 49,
      "outputs": []
    },
    {
      "cell_type": "code",
      "source": [
        "# Prepare data to feed models\n",
        "SEQ_LEN = 20 # pattern X is the size of Seq_len (e.g. use the first 20 days to predict 21st day)\n",
        "X, Y = [], []\n",
        "for sequence in gen_sequence(RLdata, SEQ_LEN, ['Close']):\n",
        "    X.append(sequence)\n",
        "    \n",
        "for sequence in gen_labels(RLdata, SEQ_LEN, ['Close']):\n",
        "    Y.append(sequence)\n",
        "    \n",
        "X = np.asarray(X)\n",
        "Y = np.asarray(Y)"
      ],
      "metadata": {
        "id": "aeR3RXSEefEn"
      },
      "execution_count": 51,
      "outputs": []
    },
    {
      "cell_type": "code",
      "source": [
        "# Train Test Split\n",
        "train_dim = int(0.7*len(RLdata))\n",
        "X_train, X_test = X[:train_dim], X[train_dim:]\n",
        "y_train, y_test = Y[:train_dim], Y[train_dim:]\n",
        "\n",
        "print(X_train.shape, y_train.shape)\n",
        "print(X_test.shape, y_test.shape)"
      ],
      "metadata": {
        "colab": {
          "base_uri": "https://localhost:8080/"
        },
        "id": "YkIqAsEOejln",
        "outputId": "8b711b3f-c639-413f-bb61-f38c9362bc8a"
      },
      "execution_count": 52,
      "outputs": [
        {
          "output_type": "stream",
          "name": "stdout",
          "text": [
            "(1142, 20, 1) (1142, 1)\n",
            "(470, 20, 1) (470, 1)\n"
          ]
        }
      ]
    },
    {
      "cell_type": "code",
      "source": [
        "# Define parameter grid for hyperparameter optimization\n",
        "param_grid = {\n",
        "    'unit': [64,32],\n",
        "    't2v_dim': [128,64,16],\n",
        "    'lr': [1e-2,1e-3], \n",
        "    'act': ['elu','relu'], \n",
        "    'epochs': 20,\n",
        "    'batch_size': [128,512,1024]\n",
        "}"
      ],
      "metadata": {
        "id": "ZSZrbqwjezC2"
      },
      "execution_count": 53,
      "outputs": []
    },
    {
      "cell_type": "code",
      "source": [
        "hypermodel = lambda x: T2V_NN(param=x, dim=SEQ_LEN)\n",
        "\n",
        "kgs_t2v = KerasGridSearch(hypermodel, param_grid, monitor='val_loss', greater_is_better=False, tuner_verbose=1)\n",
        "kgs_t2v.search(X_train, y_train, validation_split=0.2, shuffle=False)"
      ],
      "metadata": {
        "colab": {
          "base_uri": "https://localhost:8080/"
        },
        "id": "X4uYCzQHe64m",
        "outputId": "6254c66a-b1b1-4b4d-a45a-2a9678e0ed3e"
      },
      "execution_count": 54,
      "outputs": [
        {
          "output_type": "stream",
          "name": "stdout",
          "text": [
            "\n",
            "72 trials detected for ('unit', 't2v_dim', 'lr', 'act', 'epochs', 'batch_size')\n",
            "\n",
            "***** (1/72) *****\n",
            "Search({'unit': 64, 't2v_dim': 128, 'lr': 0.01, 'act': 'elu', 'epochs': 20, 'batch_size': 128})\n",
            "SCORE: 18636.00195 at epoch 10\n",
            "\n",
            "***** (2/72) *****\n",
            "Search({'unit': 64, 't2v_dim': 128, 'lr': 0.01, 'act': 'elu', 'epochs': 20, 'batch_size': 512})\n",
            "SCORE: 14903.15723 at epoch 20\n",
            "\n",
            "***** (3/72) *****\n",
            "Search({'unit': 64, 't2v_dim': 128, 'lr': 0.01, 'act': 'elu', 'epochs': 20, 'batch_size': 1024})\n",
            "SCORE: 140953.45312 at epoch 20\n",
            "\n",
            "***** (4/72) *****\n",
            "Search({'unit': 64, 't2v_dim': 128, 'lr': 0.01, 'act': 'relu', 'epochs': 20, 'batch_size': 128})\n",
            "SCORE: 12325.69434 at epoch 6\n",
            "\n",
            "***** (5/72) *****\n",
            "Search({'unit': 64, 't2v_dim': 128, 'lr': 0.01, 'act': 'relu', 'epochs': 20, 'batch_size': 512})\n",
            "SCORE: 28833.2793 at epoch 20\n",
            "\n",
            "***** (6/72) *****\n",
            "Search({'unit': 64, 't2v_dim': 128, 'lr': 0.01, 'act': 'relu', 'epochs': 20, 'batch_size': 1024})\n",
            "SCORE: 19304.32617 at epoch 20\n",
            "\n",
            "***** (7/72) *****\n",
            "Search({'unit': 64, 't2v_dim': 128, 'lr': 0.001, 'act': 'elu', 'epochs': 20, 'batch_size': 128})\n",
            "SCORE: 16041.15918 at epoch 15\n",
            "\n",
            "***** (8/72) *****\n",
            "Search({'unit': 64, 't2v_dim': 128, 'lr': 0.001, 'act': 'elu', 'epochs': 20, 'batch_size': 512})\n",
            "SCORE: 16921.27148 at epoch 19\n",
            "\n",
            "***** (9/72) *****\n",
            "Search({'unit': 64, 't2v_dim': 128, 'lr': 0.001, 'act': 'elu', 'epochs': 20, 'batch_size': 1024})\n",
            "SCORE: 15312.57227 at epoch 20\n",
            "\n",
            "***** (10/72) *****\n",
            "Search({'unit': 64, 't2v_dim': 128, 'lr': 0.001, 'act': 'relu', 'epochs': 20, 'batch_size': 128})\n",
            "SCORE: 9744.29297 at epoch 9\n",
            "\n",
            "***** (11/72) *****\n",
            "Search({'unit': 64, 't2v_dim': 128, 'lr': 0.001, 'act': 'relu', 'epochs': 20, 'batch_size': 512})\n",
            "SCORE: 25823.97852 at epoch 13\n",
            "\n",
            "***** (12/72) *****\n",
            "Search({'unit': 64, 't2v_dim': 128, 'lr': 0.001, 'act': 'relu', 'epochs': 20, 'batch_size': 1024})\n",
            "SCORE: 49371.86328 at epoch 17\n",
            "\n",
            "***** (13/72) *****\n",
            "Search({'unit': 64, 't2v_dim': 16, 'lr': 0.01, 'act': 'elu', 'epochs': 20, 'batch_size': 128})\n",
            "SCORE: 14726.12305 at epoch 6\n",
            "\n",
            "***** (14/72) *****\n",
            "Search({'unit': 64, 't2v_dim': 16, 'lr': 0.01, 'act': 'elu', 'epochs': 20, 'batch_size': 512})\n",
            "SCORE: 6697.63867 at epoch 19\n",
            "\n",
            "***** (15/72) *****\n",
            "Search({'unit': 64, 't2v_dim': 16, 'lr': 0.01, 'act': 'elu', 'epochs': 20, 'batch_size': 1024})\n",
            "SCORE: 171715.17188 at epoch 20\n",
            "\n",
            "***** (16/72) *****\n",
            "Search({'unit': 64, 't2v_dim': 16, 'lr': 0.01, 'act': 'relu', 'epochs': 20, 'batch_size': 128})\n",
            "SCORE: 8137.18115 at epoch 19\n",
            "\n",
            "***** (17/72) *****\n",
            "Search({'unit': 64, 't2v_dim': 16, 'lr': 0.01, 'act': 'relu', 'epochs': 20, 'batch_size': 512})\n",
            "SCORE: 16315.65723 at epoch 18\n",
            "\n",
            "***** (18/72) *****\n",
            "Search({'unit': 64, 't2v_dim': 16, 'lr': 0.01, 'act': 'relu', 'epochs': 20, 'batch_size': 1024})\n",
            "SCORE: 9152.22461 at epoch 20\n",
            "\n",
            "***** (19/72) *****\n",
            "Search({'unit': 64, 't2v_dim': 16, 'lr': 0.001, 'act': 'elu', 'epochs': 20, 'batch_size': 128})\n",
            "SCORE: 12467.66992 at epoch 9\n",
            "\n",
            "***** (20/72) *****\n",
            "Search({'unit': 64, 't2v_dim': 16, 'lr': 0.001, 'act': 'elu', 'epochs': 20, 'batch_size': 512})\n",
            "SCORE: 12331.24219 at epoch 20\n",
            "\n",
            "***** (21/72) *****\n",
            "Search({'unit': 64, 't2v_dim': 16, 'lr': 0.001, 'act': 'elu', 'epochs': 20, 'batch_size': 1024})\n",
            "SCORE: 49229.27344 at epoch 20\n",
            "\n",
            "***** (22/72) *****\n",
            "Search({'unit': 64, 't2v_dim': 16, 'lr': 0.001, 'act': 'relu', 'epochs': 20, 'batch_size': 128})\n",
            "SCORE: 8649.69043 at epoch 19\n",
            "\n",
            "***** (23/72) *****\n",
            "Search({'unit': 64, 't2v_dim': 16, 'lr': 0.001, 'act': 'relu', 'epochs': 20, 'batch_size': 512})\n",
            "SCORE: 18243.74805 at epoch 18\n",
            "\n",
            "***** (24/72) *****\n",
            "Search({'unit': 64, 't2v_dim': 16, 'lr': 0.001, 'act': 'relu', 'epochs': 20, 'batch_size': 1024})\n",
            "SCORE: 44847.03906 at epoch 17\n",
            "\n",
            "***** (25/72) *****\n",
            "Search({'unit': 64, 't2v_dim': 64, 'lr': 0.01, 'act': 'elu', 'epochs': 20, 'batch_size': 128})\n",
            "SCORE: 15825.33594 at epoch 15\n",
            "\n",
            "***** (26/72) *****\n",
            "Search({'unit': 64, 't2v_dim': 64, 'lr': 0.01, 'act': 'elu', 'epochs': 20, 'batch_size': 512})\n",
            "SCORE: 12974.07324 at epoch 18\n",
            "\n",
            "***** (27/72) *****\n",
            "Search({'unit': 64, 't2v_dim': 64, 'lr': 0.01, 'act': 'elu', 'epochs': 20, 'batch_size': 1024})\n",
            "SCORE: 81253.52344 at epoch 20\n",
            "\n",
            "***** (28/72) *****\n",
            "Search({'unit': 64, 't2v_dim': 64, 'lr': 0.01, 'act': 'relu', 'epochs': 20, 'batch_size': 128})\n",
            "SCORE: 15213.79492 at epoch 4\n",
            "\n",
            "***** (29/72) *****\n",
            "Search({'unit': 64, 't2v_dim': 64, 'lr': 0.01, 'act': 'relu', 'epochs': 20, 'batch_size': 512})\n",
            "SCORE: 19050.04297 at epoch 20\n",
            "\n",
            "***** (30/72) *****\n",
            "Search({'unit': 64, 't2v_dim': 64, 'lr': 0.01, 'act': 'relu', 'epochs': 20, 'batch_size': 1024})\n",
            "SCORE: 19069.52344 at epoch 18\n",
            "\n",
            "***** (31/72) *****\n",
            "Search({'unit': 64, 't2v_dim': 64, 'lr': 0.001, 'act': 'elu', 'epochs': 20, 'batch_size': 128})\n",
            "SCORE: 14452.90137 at epoch 7\n",
            "\n",
            "***** (32/72) *****\n",
            "Search({'unit': 64, 't2v_dim': 64, 'lr': 0.001, 'act': 'elu', 'epochs': 20, 'batch_size': 512})\n",
            "SCORE: 29500.01367 at epoch 19\n",
            "\n",
            "***** (33/72) *****\n",
            "Search({'unit': 64, 't2v_dim': 64, 'lr': 0.001, 'act': 'elu', 'epochs': 20, 'batch_size': 1024})\n",
            "SCORE: 32983.25 at epoch 19\n",
            "\n",
            "***** (34/72) *****\n",
            "Search({'unit': 64, 't2v_dim': 64, 'lr': 0.001, 'act': 'relu', 'epochs': 20, 'batch_size': 128})\n",
            "SCORE: 15056.37598 at epoch 5\n",
            "\n",
            "***** (35/72) *****\n",
            "Search({'unit': 64, 't2v_dim': 64, 'lr': 0.001, 'act': 'relu', 'epochs': 20, 'batch_size': 512})\n",
            "SCORE: 15709.30469 at epoch 20\n",
            "\n",
            "***** (36/72) *****\n",
            "Search({'unit': 64, 't2v_dim': 64, 'lr': 0.001, 'act': 'relu', 'epochs': 20, 'batch_size': 1024})\n",
            "SCORE: 80644.6875 at epoch 20\n",
            "\n",
            "***** (37/72) *****\n",
            "Search({'unit': 32, 't2v_dim': 128, 'lr': 0.01, 'act': 'elu', 'epochs': 20, 'batch_size': 128})\n",
            "SCORE: 12720.12891 at epoch 13\n",
            "\n",
            "***** (38/72) *****\n",
            "Search({'unit': 32, 't2v_dim': 128, 'lr': 0.01, 'act': 'elu', 'epochs': 20, 'batch_size': 512})\n",
            "SCORE: 22312.09375 at epoch 20\n",
            "\n",
            "***** (39/72) *****\n",
            "Search({'unit': 32, 't2v_dim': 128, 'lr': 0.01, 'act': 'elu', 'epochs': 20, 'batch_size': 1024})\n",
            "SCORE: 154138.01562 at epoch 20\n",
            "\n",
            "***** (40/72) *****\n",
            "Search({'unit': 32, 't2v_dim': 128, 'lr': 0.01, 'act': 'relu', 'epochs': 20, 'batch_size': 128})\n",
            "SCORE: 23721.49219 at epoch 15\n",
            "\n",
            "***** (41/72) *****\n",
            "Search({'unit': 32, 't2v_dim': 128, 'lr': 0.01, 'act': 'relu', 'epochs': 20, 'batch_size': 512})\n",
            "SCORE: 42621.13281 at epoch 20\n",
            "\n",
            "***** (42/72) *****\n",
            "Search({'unit': 32, 't2v_dim': 128, 'lr': 0.01, 'act': 'relu', 'epochs': 20, 'batch_size': 1024})\n",
            "SCORE: 186660.90625 at epoch 20\n",
            "\n",
            "***** (43/72) *****\n",
            "Search({'unit': 32, 't2v_dim': 128, 'lr': 0.001, 'act': 'elu', 'epochs': 20, 'batch_size': 128})\n",
            "SCORE: 9631.49316 at epoch 9\n",
            "\n",
            "***** (44/72) *****\n",
            "Search({'unit': 32, 't2v_dim': 128, 'lr': 0.001, 'act': 'elu', 'epochs': 20, 'batch_size': 512})\n",
            "SCORE: 143148.40625 at epoch 20\n",
            "\n",
            "***** (45/72) *****\n",
            "Search({'unit': 32, 't2v_dim': 128, 'lr': 0.001, 'act': 'elu', 'epochs': 20, 'batch_size': 1024})\n",
            "SCORE: 197490.21875 at epoch 20\n",
            "\n",
            "***** (46/72) *****\n",
            "Search({'unit': 32, 't2v_dim': 128, 'lr': 0.001, 'act': 'relu', 'epochs': 20, 'batch_size': 128})\n",
            "SCORE: 12867.00586 at epoch 19\n",
            "\n",
            "***** (47/72) *****\n",
            "Search({'unit': 32, 't2v_dim': 128, 'lr': 0.001, 'act': 'relu', 'epochs': 20, 'batch_size': 512})\n",
            "SCORE: 19768.14062 at epoch 20\n",
            "\n",
            "***** (48/72) *****\n",
            "Search({'unit': 32, 't2v_dim': 128, 'lr': 0.001, 'act': 'relu', 'epochs': 20, 'batch_size': 1024})\n",
            "SCORE: 132734.92188 at epoch 20\n",
            "\n",
            "***** (49/72) *****\n",
            "Search({'unit': 32, 't2v_dim': 16, 'lr': 0.01, 'act': 'elu', 'epochs': 20, 'batch_size': 128})\n",
            "SCORE: 10205.54395 at epoch 12\n",
            "\n",
            "***** (50/72) *****\n",
            "Search({'unit': 32, 't2v_dim': 16, 'lr': 0.01, 'act': 'elu', 'epochs': 20, 'batch_size': 512})\n",
            "SCORE: 43939.45703 at epoch 18\n",
            "\n",
            "***** (51/72) *****\n",
            "Search({'unit': 32, 't2v_dim': 16, 'lr': 0.01, 'act': 'elu', 'epochs': 20, 'batch_size': 1024})\n",
            "SCORE: 98974.42188 at epoch 20\n",
            "\n",
            "***** (52/72) *****\n",
            "Search({'unit': 32, 't2v_dim': 16, 'lr': 0.01, 'act': 'relu', 'epochs': 20, 'batch_size': 128})\n",
            "SCORE: 6856.29834 at epoch 16\n",
            "\n",
            "***** (53/72) *****\n",
            "Search({'unit': 32, 't2v_dim': 16, 'lr': 0.01, 'act': 'relu', 'epochs': 20, 'batch_size': 512})\n",
            "SCORE: 63243.23828 at epoch 17\n",
            "\n",
            "***** (54/72) *****\n",
            "Search({'unit': 32, 't2v_dim': 16, 'lr': 0.01, 'act': 'relu', 'epochs': 20, 'batch_size': 1024})\n",
            "SCORE: 226852.09375 at epoch 20\n",
            "\n",
            "***** (55/72) *****\n",
            "Search({'unit': 32, 't2v_dim': 16, 'lr': 0.001, 'act': 'elu', 'epochs': 20, 'batch_size': 128})\n",
            "SCORE: 18612.74805 at epoch 20\n",
            "\n",
            "***** (56/72) *****\n",
            "Search({'unit': 32, 't2v_dim': 16, 'lr': 0.001, 'act': 'elu', 'epochs': 20, 'batch_size': 512})\n",
            "SCORE: 65647.80469 at epoch 20\n",
            "\n",
            "***** (57/72) *****\n",
            "Search({'unit': 32, 't2v_dim': 16, 'lr': 0.001, 'act': 'elu', 'epochs': 20, 'batch_size': 1024})\n",
            "SCORE: 196167.51562 at epoch 20\n",
            "\n",
            "***** (58/72) *****\n",
            "Search({'unit': 32, 't2v_dim': 16, 'lr': 0.001, 'act': 'relu', 'epochs': 20, 'batch_size': 128})\n",
            "SCORE: 18241.30469 at epoch 6\n",
            "\n",
            "***** (59/72) *****\n",
            "Search({'unit': 32, 't2v_dim': 16, 'lr': 0.001, 'act': 'relu', 'epochs': 20, 'batch_size': 512})\n",
            "SCORE: 10899.05957 at epoch 15\n",
            "\n",
            "***** (60/72) *****\n",
            "Search({'unit': 32, 't2v_dim': 16, 'lr': 0.001, 'act': 'relu', 'epochs': 20, 'batch_size': 1024})\n",
            "SCORE: 78451.78906 at epoch 20\n",
            "\n",
            "***** (61/72) *****\n",
            "Search({'unit': 32, 't2v_dim': 64, 'lr': 0.01, 'act': 'elu', 'epochs': 20, 'batch_size': 128})\n",
            "SCORE: 19626.03906 at epoch 20\n",
            "\n",
            "***** (62/72) *****\n",
            "Search({'unit': 32, 't2v_dim': 64, 'lr': 0.01, 'act': 'elu', 'epochs': 20, 'batch_size': 512})\n",
            "SCORE: 195892.48438 at epoch 20\n",
            "\n",
            "***** (63/72) *****\n",
            "Search({'unit': 32, 't2v_dim': 64, 'lr': 0.01, 'act': 'elu', 'epochs': 20, 'batch_size': 1024})\n",
            "SCORE: 113569.5625 at epoch 20\n",
            "\n",
            "***** (64/72) *****\n",
            "Search({'unit': 32, 't2v_dim': 64, 'lr': 0.01, 'act': 'relu', 'epochs': 20, 'batch_size': 128})\n",
            "SCORE: 16579.96289 at epoch 9\n",
            "\n",
            "***** (65/72) *****\n",
            "Search({'unit': 32, 't2v_dim': 64, 'lr': 0.01, 'act': 'relu', 'epochs': 20, 'batch_size': 512})\n",
            "SCORE: 13942.99316 at epoch 20\n",
            "\n",
            "***** (66/72) *****\n",
            "Search({'unit': 32, 't2v_dim': 64, 'lr': 0.01, 'act': 'relu', 'epochs': 20, 'batch_size': 1024})\n",
            "SCORE: 159873.9375 at epoch 20\n",
            "\n",
            "***** (67/72) *****\n",
            "Search({'unit': 32, 't2v_dim': 64, 'lr': 0.001, 'act': 'elu', 'epochs': 20, 'batch_size': 128})\n",
            "SCORE: 13480.5293 at epoch 16\n",
            "\n",
            "***** (68/72) *****\n",
            "Search({'unit': 32, 't2v_dim': 64, 'lr': 0.001, 'act': 'elu', 'epochs': 20, 'batch_size': 512})\n",
            "SCORE: 24972.0332 at epoch 20\n",
            "\n",
            "***** (69/72) *****\n",
            "Search({'unit': 32, 't2v_dim': 64, 'lr': 0.001, 'act': 'elu', 'epochs': 20, 'batch_size': 1024})\n",
            "SCORE: 198917.95312 at epoch 20\n",
            "\n",
            "***** (70/72) *****\n",
            "Search({'unit': 32, 't2v_dim': 64, 'lr': 0.001, 'act': 'relu', 'epochs': 20, 'batch_size': 128})\n",
            "SCORE: 17374.20117 at epoch 12\n",
            "\n",
            "***** (71/72) *****\n",
            "Search({'unit': 32, 't2v_dim': 64, 'lr': 0.001, 'act': 'relu', 'epochs': 20, 'batch_size': 512})\n",
            "SCORE: 20330.53906 at epoch 20\n",
            "\n",
            "***** (72/72) *****\n",
            "Search({'unit': 32, 't2v_dim': 64, 'lr': 0.001, 'act': 'relu', 'epochs': 20, 'batch_size': 1024})\n",
            "SCORE: 205472.65625 at epoch 20\n"
          ]
        },
        {
          "output_type": "execute_result",
          "data": {
            "text/plain": [
              "<kerashypetune.kerashypetune.KerasGridSearch at 0x7f473bd9ed10>"
            ]
          },
          "metadata": {},
          "execution_count": 54
        }
      ]
    },
    {
      "cell_type": "markdown",
      "source": [
        "### Application of the parameters coming from the Keras Grid Search with the best score"
      ],
      "metadata": {
        "id": "li9E8j4EfEfS"
      }
    },
    {
      "cell_type": "code",
      "source": [
        "base_param = {\n",
        "    'unit': 32,\n",
        "    't2v_dim': 64,\n",
        "    'lr': 1e-2, \n",
        "    'act': 'relu', \n",
        "    'epochs': 20,\n",
        "    'batch_size': 1024\n",
        "}"
      ],
      "metadata": {
        "id": "REpaFWmDfFvV"
      },
      "execution_count": 62,
      "outputs": []
    },
    {
      "cell_type": "code",
      "source": [
        "model = T2V_NN(param=base_param, dim=SEQ_LEN)"
      ],
      "metadata": {
        "id": "AnX0YjLjiMPR"
      },
      "execution_count": 63,
      "outputs": []
    },
    {
      "cell_type": "code",
      "source": [
        "model.summary()"
      ],
      "metadata": {
        "colab": {
          "base_uri": "https://localhost:8080/"
        },
        "id": "0pwLsM4oiOP_",
        "outputId": "7852c8f8-97b1-4201-877e-61c3d3999830"
      },
      "execution_count": 64,
      "outputs": [
        {
          "output_type": "stream",
          "name": "stdout",
          "text": [
            "Model: \"model_73\"\n",
            "_________________________________________________________________\n",
            " Layer (type)                Output Shape              Param #   \n",
            "=================================================================\n",
            " input_74 (InputLayer)       [(None, 20, 1)]           0         \n",
            "                                                                 \n",
            " t2v_73 (T2V)                (None, 20, 65)            1384      \n",
            "                                                                 \n",
            " lstm_73 (LSTM)              (None, 32)                12544     \n",
            "                                                                 \n",
            " dense_73 (Dense)            (None, 1)                 33        \n",
            "                                                                 \n",
            "=================================================================\n",
            "Total params: 13,961\n",
            "Trainable params: 13,961\n",
            "Non-trainable params: 0\n",
            "_________________________________________________________________\n"
          ]
        }
      ]
    },
    {
      "cell_type": "code",
      "source": [
        "history = model.fit(X_train, y_train, epochs=20, validation_split=0.2, shuffle=False)"
      ],
      "metadata": {
        "colab": {
          "base_uri": "https://localhost:8080/"
        },
        "id": "ZM3lJ6KniQYv",
        "outputId": "9846050c-864b-4c10-c722-4bd6417ee13d"
      },
      "execution_count": 65,
      "outputs": [
        {
          "output_type": "stream",
          "name": "stdout",
          "text": [
            "Epoch 1/20\n",
            "29/29 [==============================] - 2s 26ms/step - loss: 157611.2031 - val_loss: 197513.6719\n",
            "Epoch 2/20\n",
            "29/29 [==============================] - 0s 15ms/step - loss: 138557.4688 - val_loss: 235583.4531\n",
            "Epoch 3/20\n",
            "29/29 [==============================] - 0s 16ms/step - loss: 44932.1406 - val_loss: 121623.9375\n",
            "Epoch 4/20\n",
            "29/29 [==============================] - 0s 15ms/step - loss: 78577.9297 - val_loss: 41607.4062\n",
            "Epoch 5/20\n",
            "29/29 [==============================] - 0s 15ms/step - loss: 17404.4609 - val_loss: 43885.3281\n",
            "Epoch 6/20\n",
            "29/29 [==============================] - 0s 15ms/step - loss: 29015.6348 - val_loss: 87025.6016\n",
            "Epoch 7/20\n",
            "29/29 [==============================] - 0s 16ms/step - loss: 39534.3359 - val_loss: 16883.2402\n",
            "Epoch 8/20\n",
            "29/29 [==============================] - 0s 15ms/step - loss: 16810.4785 - val_loss: 21550.9277\n",
            "Epoch 9/20\n",
            "29/29 [==============================] - 0s 16ms/step - loss: 11537.4502 - val_loss: 28679.4883\n",
            "Epoch 10/20\n",
            "29/29 [==============================] - 0s 15ms/step - loss: 14037.1611 - val_loss: 19010.8906\n",
            "Epoch 11/20\n",
            "29/29 [==============================] - 0s 17ms/step - loss: 16831.2051 - val_loss: 26337.8477\n",
            "Epoch 12/20\n",
            "29/29 [==============================] - 0s 15ms/step - loss: 13397.2324 - val_loss: 25639.5449\n",
            "Epoch 13/20\n",
            "29/29 [==============================] - 0s 16ms/step - loss: 11041.3301 - val_loss: 23630.8262\n",
            "Epoch 14/20\n",
            "29/29 [==============================] - 0s 15ms/step - loss: 10633.3311 - val_loss: 24716.0039\n",
            "Epoch 15/20\n",
            "29/29 [==============================] - 0s 15ms/step - loss: 10118.2002 - val_loss: 23671.6367\n",
            "Epoch 16/20\n",
            "29/29 [==============================] - 0s 15ms/step - loss: 9379.7061 - val_loss: 21607.7988\n",
            "Epoch 17/20\n",
            "29/29 [==============================] - 0s 15ms/step - loss: 8812.3037 - val_loss: 23655.5156\n",
            "Epoch 18/20\n",
            "29/29 [==============================] - 0s 16ms/step - loss: 8871.1377 - val_loss: 20517.7363\n",
            "Epoch 19/20\n",
            "29/29 [==============================] - 0s 15ms/step - loss: 7981.2290 - val_loss: 25247.0176\n",
            "Epoch 20/20\n",
            "29/29 [==============================] - 0s 15ms/step - loss: 9200.1660 - val_loss: 17844.1738\n"
          ]
        }
      ]
    },
    {
      "cell_type": "code",
      "source": [
        "model.evaluate(X_test, y_test)"
      ],
      "metadata": {
        "colab": {
          "base_uri": "https://localhost:8080/"
        },
        "id": "_cZdf-Y6iT__",
        "outputId": "a14091fe-2332-4429-dba8-219894fc5698"
      },
      "execution_count": 66,
      "outputs": [
        {
          "output_type": "stream",
          "name": "stdout",
          "text": [
            "15/15 [==============================] - 0s 5ms/step - loss: 246814.7344\n"
          ]
        },
        {
          "output_type": "execute_result",
          "data": {
            "text/plain": [
              "246814.734375"
            ]
          },
          "metadata": {},
          "execution_count": 66
        }
      ]
    },
    {
      "cell_type": "markdown",
      "source": [
        "###Graph plot to see the loss variables vs epoch"
      ],
      "metadata": {
        "id": "ZI8FL54lidfl"
      }
    },
    {
      "cell_type": "code",
      "source": [
        "plt.plot(history.history['loss'])\n",
        "plt.plot(history.history['val_loss'])\n",
        "plt.title('model loss')\n",
        "plt.ylabel('loss')\n",
        "plt.xlabel('epoch')\n",
        "plt.legend(['train', 'test'], loc='upper left')\n",
        "plt.show()"
      ],
      "metadata": {
        "colab": {
          "base_uri": "https://localhost:8080/",
          "height": 295
        },
        "id": "nkrfUVUciaxP",
        "outputId": "d639dc00-9642-4d97-8b21-2b335b189cf7"
      },
      "execution_count": 67,
      "outputs": [
        {
          "output_type": "display_data",
          "data": {
            "text/plain": [
              "<Figure size 432x288 with 1 Axes>"
            ],
            "image/png": "[encoded data removed]"
          },
          "metadata": {
            "needs_background": "light"
          }
        }
      ]
    },
    {
      "cell_type": "markdown",
      "source": [
        "###Graph plot to see the actual vs predicted price"
      ],
      "metadata": {
        "id": "epbFczpTii6i"
      }
    },
    {
      "cell_type": "code",
      "source": [
        "y_hat = model.predict(X_test)\n",
        "\n",
        "# scale in a way that is easier to visualize in the graph (https://scikit-learn.org/stable/modules/generated/sklearn.preprocessing.StandardScaler.html)\n",
        "# inverse_transform: Scale back the data to the original representation\n",
        "y_test_inverse = scaler.inverse_transform(y_test)\n",
        "y_hat_inverse = scaler.inverse_transform(y_hat)\n",
        " \n",
        "plt.plot(y_test_inverse, label=\"Actual Price\", color='green')\n",
        "plt.plot(y_hat_inverse, label=\"Predicted Price\", color='red')\n",
        " \n",
        "plt.title('Ethereum price prediction')\n",
        "plt.xlabel('Time [days]')\n",
        "plt.ylabel('Price')\n",
        "plt.legend(loc='best')\n",
        "\n",
        "plt.show()"
      ],
      "metadata": {
        "colab": {
          "base_uri": "https://localhost:8080/",
          "height": 295
        },
        "id": "nJGBxQfdif9v",
        "outputId": "149e6196-d9df-40da-cdef-518a189bf8c9"
      },
      "execution_count": 68,
      "outputs": [
        {
          "output_type": "display_data",
          "data": {
            "text/plain": [
              "<Figure size 432x288 with 1 Axes>"
            ],
            "image/png": "[encoded data removed]"
          },
          "metadata": {
            "needs_background": "light"
          }
        }
      ]
    },
    {
      "cell_type": "code",
      "source": [
        ""
      ],
      "metadata": {
        "id": "WCeZ5wPCioTP"
      },
      "execution_count": null,
      "outputs": []
    }
  ]
}